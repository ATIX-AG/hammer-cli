{
 "cells": [
  {
   "cell_type": "markdown",
   "metadata": {},
   "source": [
    "# Release of hammer-cli gem\n",
    "\n",
    "## Requirements\n",
    "- push access to https://github.com/theforeman/hammer-cli\n",
    "- push access to rubygems.org for hammer-cli\n",
    "- sudo yum install transifex-client python-slugify asciidoc\n",
    "- ensure neither the `git push` or `gem push` don't require interractive auth. If you can't use api key or ssh key to auth skip these steps and run them form the shell manually \n",
    "- to push translations you need an account on Transifex\n",
    "\n",
    "## Release process\n",
    "- Follow the steps with `<Shift>+<Enter>` or `<Ctrl>+<Enter>,<Down>`\n",
    "- If anything fails, fix it and re-run the step if applicable\n",
    "\n",
    "## Release settings"
   ]
  },
  {
   "cell_type": "code",
   "execution_count": 1,
   "metadata": {},
   "outputs": [
    {
     "name": "stdout",
     "output_type": "stream",
     "text": [
      "/home/mshira/git/hammer-cli\n"
     ]
    }
   ],
   "source": [
    "%cd .."
   ]
  },
  {
   "cell_type": "markdown",
   "metadata": {},
   "source": [
    "### Update the following notebook settings"
   ]
  },
  {
   "cell_type": "code",
   "execution_count": 2,
   "metadata": {},
   "outputs": [],
   "source": [
    "NEW_VERSION = '2.0.0'\n",
    "LAST_VERSION = '0.19.0'\n",
    "DEVELOP_VERSION = '2.1.0-develop'\n",
    "NEXT_FUTURE_VERSION = '2.1.0'\n",
    "MAJOR_RELEASE = True\n",
    "STABLE_BRANCH = '2.0-stable'\n",
    "GIT_REMOTE_UPSTREAM = 'origin'\n",
    "WORK_BRANCH = 'master' if MAJOR_RELEASE else STABLE_BRANCH"
   ]
  },
  {
   "cell_type": "markdown",
   "metadata": {},
   "source": [
    "### Ensure the repo is up to date"
   ]
  },
  {
   "cell_type": "code",
   "execution_count": 3,
   "metadata": {},
   "outputs": [
    {
     "name": "stdout",
     "output_type": "stream",
     "text": [
      "M\trel-eng/gem_release.ipynb\r\n",
      "Already on 'master'\r\n"
     ]
    }
   ],
   "source": [
    "! git checkout {WORK_BRANCH}"
   ]
  },
  {
   "cell_type": "code",
   "execution_count": 4,
   "metadata": {},
   "outputs": [
    {
     "name": "stdout",
     "output_type": "stream",
     "text": [
      "remote: Enumerating objects: 14, done.\u001b[K\n",
      "remote: Counting objects: 100% (14/14), done.\u001b[K\n",
      "remote: Compressing objects: 100% (10/10), done.\u001b[K\n",
      "remote: Total 14 (delta 4), reused 8 (delta 4), pack-reused 0\u001b[K\n",
      "Unpacking objects: 100% (14/14), done.\n",
      "From github.com:theforeman/hammer-cli\n",
      "   bc12a4d..d62870f  0.19-stable -> origin/0.19-stable\n",
      " * [new tag]         0.19.2      -> 0.19.2\n"
     ]
    }
   ],
   "source": [
    "! git fetch {GIT_REMOTE_UPSTREAM}"
   ]
  },
  {
   "cell_type": "code",
   "execution_count": 6,
   "metadata": {},
   "outputs": [
    {
     "name": "stdout",
     "output_type": "stream",
     "text": [
      "error: cannot rebase: You have unstaged changes.\r\n",
      "error: Please commit or stash them.\r\n"
     ]
    }
   ],
   "source": [
    "! git rebase {GIT_REMOTE_UPSTREAM}/{WORK_BRANCH}"
   ]
  },
  {
   "cell_type": "markdown",
   "metadata": {},
   "source": [
    "### Run tests localy"
   ]
  },
  {
   "cell_type": "code",
   "execution_count": 5,
   "metadata": {},
   "outputs": [
    {
     "name": "stdout",
     "output_type": "stream",
     "text": [
      "Fetching gem metadata from https://rubygems.org/........\n",
      "Resolving dependencies...\n",
      "Using rake 10.1.1\n",
      "Using json 2.3.0\n",
      "Using oauth 0.5.4\n",
      "Using http-accept 1.7.0\n",
      "Using unf_ext 0.0.7.6\n",
      "Using unf 0.1.4\n",
      "Using domain_name 0.5.20190701\n",
      "Using http-cookie 1.0.3\n",
      "Using mime-types-data 3.2019.1009\n",
      "Using mime-types 3.3.1\n",
      "Using netrc 0.11.0\n",
      "Using rest-client 2.1.0\n",
      "Using apipie-bindings 0.3.0\n",
      "Using awesome_print 1.8.0\n",
      "Using debug_inspector 0.0.3\n",
      "Using binding_of_caller 0.8.0\n",
      "Using builder 3.2.4\n",
      "Using bundler 1.17.3\n",
      "Using byebug 11.1.1\u001b[32m (was 11.0.1)\u001b[0m\n",
      "Using ci_reporter 1.9.3\n",
      "Using clamp 1.1.2\n",
      "Using coderay 1.1.2\n",
      "Using docile 1.3.2\n",
      "Using fast_gettext 2.0.2\u001b[32m (was 2.0.1)\u001b[0m\n",
      "\u001b[32mFetching locale 2.1.3\u001b[32m (was 2.1.2)\u001b[0m\u001b[0m\n",
      "\u001b[32mInstalling locale 2.1.3\u001b[32m (was 2.1.2)\u001b[0m\u001b[0m\n",
      "Using text 1.3.1\n",
      "\u001b[32mFetching gettext 3.3.4\u001b[32m (was 3.2.9)\u001b[0m\u001b[0m\n",
      "\u001b[32mInstalling gettext 3.3.4\u001b[32m (was 3.2.9)\u001b[0m\u001b[0m\n",
      "Using highline 2.0.3\n",
      "Using little-plugger 1.1.4\n",
      "Using multi_json 1.14.1\n",
      "Using logging 2.2.2\n",
      "Using unicode 0.4.4.4\n",
      "Using unicode-display_width 1.6.1\u001b[32m (was 1.6.0)\u001b[0m\n",
      "Using hammer_cli 2.0.0.pre.develop\u001b[32m (was 0.19.1)\u001b[0m from source at `.`\n",
      "Using interception 0.5\n",
      "Using method_source 0.9.2\n",
      "Using minitest 4.7.4\n",
      "Using minitest-spec-context 0.0.4\n",
      "Using mocha 1.11.2\u001b[32m (was 1.11.1)\u001b[0m\n",
      "Using pry 0.12.2\n",
      "Using pry-byebug 3.8.0\u001b[32m (was 3.7.0)\u001b[0m\n",
      "Using yard 0.9.24\u001b[32m (was 0.9.20)\u001b[0m\n",
      "Using pry-doc 1.0.0\n",
      "Using pry-rails 0.3.9\n",
      "Using pry-rescue 1.5.0\n",
      "Using pry-stack_explorer 0.4.9.3\n",
      "Using simplecov-html 0.11.0\u001b[32m (was 0.10.2)\u001b[0m\n",
      "Using simplecov 0.18.1\u001b[32m (was 0.17.1)\u001b[0m\n",
      "Using thor 1.0.1\n",
      "\u001b[32mBundle updated!\u001b[0m\n"
     ]
    }
   ],
   "source": [
    "! bundle update"
   ]
  },
  {
   "cell_type": "code",
   "execution_count": 7,
   "metadata": {},
   "outputs": [
    {
     "name": "stdout",
     "output_type": "stream",
     "text": [
      "/home/mshira/.rvm/rubies/ruby-2.5.1/bin/ruby -I\"lib:lib\" -I\"/home/mshira/.rvm/gems/ruby-2.5.1/gems/rake-10.1.1/lib\" \"/home/mshira/.rvm/gems/ruby-2.5.1/gems/rake-10.1.1/lib/rake/rake_test_loader.rb\" \"test/unit/messages_test.rb\" \"test/unit/exception_handler_test.rb\" \"test/unit/modules_test.rb\" \"test/unit/connection_test.rb\" \"test/unit/completer_test.rb\" \"test/unit/csv_parser_test.rb\" \"test/unit/option_builder_test.rb\" \"test/unit/utils_test.rb\" \"test/unit/apipie/command_test.rb\" \"test/unit/apipie/option_builder_test.rb\" \"test/unit/apipie/api_connection_test.rb\" \"test/unit/apipie/option_definition_test.rb\" \"test/unit/command_extensions_test.rb\" \"test/unit/main_test.rb\" \"test/unit/options/processor_list_test.rb\" \"test/unit/options/validators/dsl_test.rb\" \"test/unit/options/sources/command_line_test.rb\" \"test/unit/options/sources/saved_defaults_test.rb\" \"test/unit/options/matcher_test.rb\" \"test/unit/options/option_collector_test.rb\" \"test/unit/options/normalizers_test.rb\" \"test/unit/options/option_definition_test.rb\" \"test/unit/settings_test.rb\" \"test/unit/history_test.rb\" \"test/unit/defaults_test.rb\" \"test/unit/logger_test.rb\" \"test/unit/output/formatters_test.rb\" \"test/unit/output/record_collection_test.rb\" \"test/unit/output/dsl_test.rb\" \"test/unit/output/definition_test.rb\" \"test/unit/output/output_test.rb\" \"test/unit/output/field_filter_test.rb\" \"test/unit/output/fields_test.rb\" \"test/unit/output/adapter/table_test.rb\" \"test/unit/output/adapter/json_test.rb\" \"test/unit/output/adapter/abstract_test.rb\" \"test/unit/output/adapter/yaml_test.rb\" \"test/unit/output/adapter/csv_test.rb\" \"test/unit/output/adapter/base_test.rb\" \"test/unit/abstract_test.rb\" \"test/unit/i18n_test.rb\" \"test/unit/bash_test.rb\" \"test/unit/help/definition/section_test.rb\" \"test/unit/help/definition/list_test.rb\" \"test/unit/help/definition/text_test.rb\" \"test/unit/help/definition/abstract_item_test.rb\" \"test/unit/help/definition/note_test.rb\" \"test/unit/help/definition_test.rb\" \"test/unit/help/builder_test.rb\" \"test/unit/help/text_builder_test.rb\" \"test/unit/ca_cert_manager_test.rb\" \"test/functional/help_test.rb\" \"test/functional/nil_values_test.rb\" \"test/functional/defaults_test.rb\" \n",
      "Mocha deprecation warning at /home/mshira/git/hammer-cli/test/test_helper.rb:14:in `require': Require 'mocha/test_unit', 'mocha/minitest' or 'mocha/api' instead of 'mocha/setup'.\n",
      "Run options: --seed 52387\n",
      "\n",
      "# Running tests:\n",
      "\n",
      "..................................................................................................................................................................................................................................................................................................................................................................................................................................................................................................................................................................................................................................................................................................................................................................................................................................................................................\n",
      "\n",
      "Finished tests in 0.409490s, 2075.7550 tests/s, 3130.7270 assertions/s.\n",
      "\n",
      "850 tests, 1282 assertions, 0 failures, 0 errors, 0 skips\n",
      "Coverage report generated for MiniTest to /home/mshira/git/coverage. 3092 / 3469 LOC (89.13%) covered.\n"
     ]
    }
   ],
   "source": [
    "! bundle exec rake test"
   ]
  },
  {
   "cell_type": "markdown",
   "metadata": {},
   "source": [
    "### Update release related stuff"
   ]
  },
  {
   "cell_type": "code",
   "execution_count": 8,
   "metadata": {},
   "outputs": [],
   "source": [
    "! sed -i 's/Gem::Version.new .*/Gem::Version.new \"{NEW_VERSION}\"/' lib/hammer_cli/version.rb"
   ]
  },
  {
   "cell_type": "code",
   "execution_count": null,
   "metadata": {},
   "outputs": [],
   "source": [
    "# Parse git changelog\n",
    "from IPython.display import Markdown as md\n",
    "from subprocess import check_output\n",
    "from shlex import split\n",
    "import re\n",
    "\n",
    "def format_log_entry(entry):\n",
    "    issues = re.findall(r'[^(]#([0-9]+)', entry)\n",
    "    entry = re.sub(r'([fF]ixes|[rR]efs)[^-]*-\\s*(.*)', r'\\2', entry)\n",
    "    entry = '* ' + entry.capitalize()\n",
    "    entry = re.sub(r'\\(#([0-9]+)\\)', r'([PR #\\1](https://github.com/theforeman/hammer-cli/pull/\\1))', entry)\n",
    "    for i in issues:\n",
    "        referenced_issues.append(i)\n",
    "        entry = entry + ', [#%s](http://projects.theforeman.org/issues/%s)' % (i, i)\n",
    "    return entry\n",
    "\n",
    "def skip(entry):\n",
    "    if re.match(r'Merge pull', entry) or \\\n",
    "      re.match(r'^i18n', entry) or \\\n",
    "      re.match(r'^Bump to version', entry):\n",
    "        return True\n",
    "    else:\n",
    "        return False\n",
    "referenced_issues = []    \n",
    "git_log_cmd = 'git log --pretty=format:\"%%s\" %s..HEAD' % LAST_VERSION\n",
    "log = check_output(split(git_log_cmd)).decode('utf8').split('\\n')\n",
    "change_log = [format_log_entry(e) for e in log if not skip(e)]\n",
    "md('\\n'.join(change_log))\n"
   ]
  },
  {
   "cell_type": "code",
   "execution_count": null,
   "metadata": {},
   "outputs": [],
   "source": [
    "# Write release notes\n",
    "from datetime import datetime\n",
    "import fileinput\n",
    "import sys\n",
    "\n",
    "fh = fileinput.input('doc/release_notes.md', inplace=True)  \n",
    "for line in fh:  \n",
    "    print(line.rstrip())\n",
    "    if re.match(r'========', line):\n",
    "        print('### %s (%s)' % (NEW_VERSION, datetime.today().strftime('%Y-%m-%d')))\n",
    "        for entry in change_log:\n",
    "            print(entry)\n",
    "        print('')\n",
    "fh.close()  "
   ]
  },
  {
   "cell_type": "markdown",
   "metadata": {},
   "source": [
    "#### Manual step: Update deps in the gemspec if neccessary"
   ]
  },
  {
   "cell_type": "markdown",
   "metadata": {},
   "source": [
    "### Check what is going to be commited"
   ]
  },
  {
   "cell_type": "code",
   "execution_count": null,
   "metadata": {
    "scrolled": false
   },
   "outputs": [],
   "source": [
    "! git add -u\n",
    "! git status"
   ]
  },
  {
   "cell_type": "code",
   "execution_count": null,
   "metadata": {
    "scrolled": true
   },
   "outputs": [],
   "source": [
    "! git diff --cached"
   ]
  },
  {
   "cell_type": "markdown",
   "metadata": {},
   "source": [
    "### Commit changes"
   ]
  },
  {
   "cell_type": "code",
   "execution_count": null,
   "metadata": {
    "scrolled": true
   },
   "outputs": [],
   "source": [
    "! git commit -m \"Bump to {NEW_VERSION}\""
   ]
  },
  {
   "cell_type": "markdown",
   "metadata": {},
   "source": [
    "### Update translations"
   ]
  },
  {
   "cell_type": "code",
   "execution_count": null,
   "metadata": {},
   "outputs": [],
   "source": [
    "if MAJOR_RELEASE:\n",
    "    ! make -C locale/ tx-update"
   ]
  },
  {
   "cell_type": "markdown",
   "metadata": {},
   "source": [
    "### Tag new version"
   ]
  },
  {
   "cell_type": "code",
   "execution_count": null,
   "metadata": {},
   "outputs": [],
   "source": [
    "! git tag {NEW_VERSION}"
   ]
  },
  {
   "cell_type": "markdown",
   "metadata": {},
   "source": [
    "### Prepare stable branch for major release"
   ]
  },
  {
   "cell_type": "code",
   "execution_count": null,
   "metadata": {},
   "outputs": [],
   "source": [
    "if MAJOR_RELEASE:\n",
    "    ! git checkout -b {STABLE_BRANCH}\n",
    "    ! git push {GIT_REMOTE_UPSTREAM} {STABLE_BRANCH}\n",
    "    ! git checkout {WORK_BRANCH}"
   ]
  },
  {
   "cell_type": "markdown",
   "metadata": {},
   "source": [
    "### Build the gem"
   ]
  },
  {
   "cell_type": "code",
   "execution_count": null,
   "metadata": {},
   "outputs": [],
   "source": [
    "! rake build"
   ]
  },
  {
   "cell_type": "code",
   "execution_count": null,
   "metadata": {},
   "outputs": [],
   "source": [
    "! gem push pkg/hammer_cli-{NEW_VERSION}.gem"
   ]
  },
  {
   "cell_type": "markdown",
   "metadata": {},
   "source": [
    "### Bump the develop version for major release"
   ]
  },
  {
   "cell_type": "code",
   "execution_count": null,
   "metadata": {},
   "outputs": [],
   "source": [
    "if MAJOR_RELEASE:\n",
    "    ! sed -i 's/Gem::Version.new .*/Gem::Version.new \"{DEVELOP_VERSION}\"/' lib/hammer_cli/version.rb"
   ]
  },
  {
   "cell_type": "code",
   "execution_count": null,
   "metadata": {
    "scrolled": true
   },
   "outputs": [],
   "source": [
    "if MAJOR_RELEASE:\n",
    "    ! git add -u\n",
    "    ! git status"
   ]
  },
  {
   "cell_type": "code",
   "execution_count": null,
   "metadata": {
    "scrolled": true
   },
   "outputs": [],
   "source": [
    "if MAJOR_RELEASE:\n",
    "    ! git diff --cached"
   ]
  },
  {
   "cell_type": "code",
   "execution_count": null,
   "metadata": {
    "scrolled": true
   },
   "outputs": [],
   "source": [
    "if MAJOR_RELEASE:\n",
    "    ! git commit -m \"Bump to {DEVELOP_VERSION}\""
   ]
  },
  {
   "cell_type": "markdown",
   "metadata": {},
   "source": [
    "### PUSH the changes upstream If everything is correct"
   ]
  },
  {
   "cell_type": "code",
   "execution_count": null,
   "metadata": {},
   "outputs": [],
   "source": [
    "! git push {GIT_REMOTE_UPSTREAM} {WORK_BRANCH}"
   ]
  },
  {
   "cell_type": "code",
   "execution_count": null,
   "metadata": {},
   "outputs": [],
   "source": [
    "! git push --tags {GIT_REMOTE_UPSTREAM} {WORK_BRANCH}"
   ]
  },
  {
   "cell_type": "markdown",
   "metadata": {},
   "source": [
    "#### Now the new release is in upstream repo"
   ]
  },
  {
   "cell_type": "markdown",
   "metadata": {},
   "source": [
    "### Some manual steps follow to improve the UX\n",
    "\n",
    "#### New relase on GitHub\n",
    "\n",
    "Copy the following changelog lines to the description in form on link below\n",
    "The release title is the new version."
   ]
  },
  {
   "cell_type": "code",
   "execution_count": null,
   "metadata": {},
   "outputs": [],
   "source": [
    "print('\\n')\n",
    "print('\\n'.join(change_log))\n",
    "print('\\n\\nhttps://github.com/theforeman/hammer-cli/releases/new?tag=%s' % NEW_VERSION)"
   ]
  },
  {
   "cell_type": "code",
   "execution_count": null,
   "metadata": {},
   "outputs": [],
   "source": [
    "from IPython.display import Markdown as md\n",
    "\n",
    "md('### Create new hammer-cli release in Redmine \\n' + \\\n",
    "    '<a href=\"https://projects.theforeman.org/projects/hammer-cli/versions/new\" target=\"_blank\">https://projects.theforeman.org/projects/hammer-cli/versions/new</a>\\n\\n' + \\\n",
    "    'Set name to hammer-cli-%s' % (NEXT_FUTURE_VERSION if MAJOR_RELEASE else NEW_VERSION))"
   ]
  },
  {
   "cell_type": "code",
   "execution_count": null,
   "metadata": {},
   "outputs": [],
   "source": [
    "if not MAJOR_RELEASE:\n",
    "    print('Set fixed in versions to %s in following issues:' % NEW_VERSION)\n",
    "    for i in referenced_issues:\n",
    "        print('- https://projects.theforeman.org/issues/%s' % i)"
   ]
  },
  {
   "cell_type": "markdown",
   "metadata": {},
   "source": [
    "## Congratulations\n",
    "\n",
    "Release is public now."
   ]
  }
 ],
 "metadata": {
  "kernelspec": {
   "display_name": "Python 3",
   "language": "python",
   "name": "python3"
  },
  "language_info": {
   "codemirror_mode": {
    "name": "ipython",
    "version": 3
   },
   "file_extension": ".py",
   "mimetype": "text/x-python",
   "name": "python",
   "nbconvert_exporter": "python",
   "pygments_lexer": "ipython3",
   "version": "3.7.5"
  }
 },
 "nbformat": 4,
 "nbformat_minor": 2
}
