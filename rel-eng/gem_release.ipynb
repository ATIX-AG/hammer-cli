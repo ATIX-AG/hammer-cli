{
 "cells": [
  {
   "cell_type": "markdown",
   "metadata": {},
   "source": [
    "# Release of hammer-cli gem\n",
    "\n",
    "## Requirements\n",
    "- push access to https://github.com/theforeman/hammer-cli\n",
    "- push access to rubygems.org for hammer-cli\n",
    "- sudo yum install transifex-client python-slugify asciidoc\n",
    "- ensure neither the `git push` or `gem push` don't require interractive auth. If you can't use api key or ssh key to auth skip these steps and run them form the shell manually \n",
    "- to push translations you need an account on Transifex\n",
    "\n",
    "## Release process\n",
    "- Follow the steps with `<Shift>+<Enter>` or `<Ctrl>+<Enter>,<Down>`\n",
    "- If anything fails, fix it and re-run the step if applicable\n",
    "\n",
    "## Release settings"
   ]
  },
  {
   "cell_type": "code",
   "execution_count": 1,
   "metadata": {},
   "outputs": [
    {
     "name": "stdout",
     "output_type": "stream",
     "text": [
      "/home/mshira/git/hammer-cli\n"
     ]
    }
   ],
   "source": [
    "%cd .."
   ]
  },
  {
   "cell_type": "markdown",
   "metadata": {},
   "source": [
    "### Update the following notebook settings"
   ]
  },
  {
   "cell_type": "code",
   "execution_count": 2,
   "metadata": {},
   "outputs": [],
   "source": [
    "NEW_VERSION = '2.0.0'\n",
    "LAST_VERSION = '0.19.0'\n",
    "DEVELOP_VERSION = '2.1.0-develop'\n",
    "NEXT_FUTURE_VERSION = '2.1.0'\n",
    "MAJOR_RELEASE = True\n",
    "STABLE_BRANCH = '2.0-stable'\n",
    "GIT_REMOTE_UPSTREAM = 'origin'\n",
    "WORK_BRANCH = 'master' if MAJOR_RELEASE else STABLE_BRANCH"
   ]
  },
  {
   "cell_type": "markdown",
   "metadata": {},
   "source": [
    "### Ensure the repo is up to date"
   ]
  },
  {
   "cell_type": "code",
   "execution_count": 3,
   "metadata": {},
   "outputs": [
    {
     "name": "stdout",
     "output_type": "stream",
     "text": [
      "M\trel-eng/gem_release.ipynb\r\n",
      "Already on 'master'\r\n"
     ]
    }
   ],
   "source": [
    "! git checkout {WORK_BRANCH}"
   ]
  },
  {
   "cell_type": "code",
   "execution_count": 4,
   "metadata": {},
   "outputs": [
    {
     "name": "stdout",
     "output_type": "stream",
     "text": [
      "remote: Enumerating objects: 14, done.\u001b[K\n",
      "remote: Counting objects: 100% (14/14), done.\u001b[K\n",
      "remote: Compressing objects: 100% (10/10), done.\u001b[K\n",
      "remote: Total 14 (delta 4), reused 8 (delta 4), pack-reused 0\u001b[K\n",
      "Unpacking objects: 100% (14/14), done.\n",
      "From github.com:theforeman/hammer-cli\n",
      "   bc12a4d..d62870f  0.19-stable -> origin/0.19-stable\n",
      " * [new tag]         0.19.2      -> 0.19.2\n"
     ]
    }
   ],
   "source": [
    "! git fetch {GIT_REMOTE_UPSTREAM}"
   ]
  },
  {
   "cell_type": "code",
   "execution_count": 6,
   "metadata": {},
   "outputs": [
    {
     "name": "stdout",
     "output_type": "stream",
     "text": [
      "error: cannot rebase: You have unstaged changes.\r\n",
      "error: Please commit or stash them.\r\n"
     ]
    }
   ],
   "source": [
    "! git rebase {GIT_REMOTE_UPSTREAM}/{WORK_BRANCH}"
   ]
  },
  {
   "cell_type": "markdown",
   "metadata": {},
   "source": [
    "### Run tests localy"
   ]
  },
  {
   "cell_type": "code",
   "execution_count": 5,
   "metadata": {},
   "outputs": [
    {
     "name": "stdout",
     "output_type": "stream",
     "text": [
      "Fetching gem metadata from https://rubygems.org/........\n",
      "Resolving dependencies...\n",
      "Using rake 10.1.1\n",
      "Using json 2.3.0\n",
      "Using oauth 0.5.4\n",
      "Using http-accept 1.7.0\n",
      "Using unf_ext 0.0.7.6\n",
      "Using unf 0.1.4\n",
      "Using domain_name 0.5.20190701\n",
      "Using http-cookie 1.0.3\n",
      "Using mime-types-data 3.2019.1009\n",
      "Using mime-types 3.3.1\n",
      "Using netrc 0.11.0\n",
      "Using rest-client 2.1.0\n",
      "Using apipie-bindings 0.3.0\n",
      "Using awesome_print 1.8.0\n",
      "Using debug_inspector 0.0.3\n",
      "Using binding_of_caller 0.8.0\n",
      "Using builder 3.2.4\n",
      "Using bundler 1.17.3\n",
      "Using byebug 11.1.1\u001b[32m (was 11.0.1)\u001b[0m\n",
      "Using ci_reporter 1.9.3\n",
      "Using clamp 1.1.2\n",
      "Using coderay 1.1.2\n",
      "Using docile 1.3.2\n",
      "Using fast_gettext 2.0.2\u001b[32m (was 2.0.1)\u001b[0m\n",
      "\u001b[32mFetching locale 2.1.3\u001b[32m (was 2.1.2)\u001b[0m\u001b[0m\n",
      "\u001b[32mInstalling locale 2.1.3\u001b[32m (was 2.1.2)\u001b[0m\u001b[0m\n",
      "Using text 1.3.1\n",
      "\u001b[32mFetching gettext 3.3.4\u001b[32m (was 3.2.9)\u001b[0m\u001b[0m\n",
      "\u001b[32mInstalling gettext 3.3.4\u001b[32m (was 3.2.9)\u001b[0m\u001b[0m\n",
      "Using highline 2.0.3\n",
      "Using little-plugger 1.1.4\n",
      "Using multi_json 1.14.1\n",
      "Using logging 2.2.2\n",
      "Using unicode 0.4.4.4\n",
      "Using unicode-display_width 1.6.1\u001b[32m (was 1.6.0)\u001b[0m\n",
      "Using hammer_cli 2.0.0.pre.develop\u001b[32m (was 0.19.1)\u001b[0m from source at `.`\n",
      "Using interception 0.5\n",
      "Using method_source 0.9.2\n",
      "Using minitest 4.7.4\n",
      "Using minitest-spec-context 0.0.4\n",
      "Using mocha 1.11.2\u001b[32m (was 1.11.1)\u001b[0m\n",
      "Using pry 0.12.2\n",
      "Using pry-byebug 3.8.0\u001b[32m (was 3.7.0)\u001b[0m\n",
      "Using yard 0.9.24\u001b[32m (was 0.9.20)\u001b[0m\n",
      "Using pry-doc 1.0.0\n",
      "Using pry-rails 0.3.9\n",
      "Using pry-rescue 1.5.0\n",
      "Using pry-stack_explorer 0.4.9.3\n",
      "Using simplecov-html 0.11.0\u001b[32m (was 0.10.2)\u001b[0m\n",
      "Using simplecov 0.18.1\u001b[32m (was 0.17.1)\u001b[0m\n",
      "Using thor 1.0.1\n",
      "\u001b[32mBundle updated!\u001b[0m\n"
     ]
    }
   ],
   "source": [
    "! bundle update"
   ]
  },
  {
   "cell_type": "code",
   "execution_count": 7,
   "metadata": {},
   "outputs": [
    {
     "name": "stdout",
     "output_type": "stream",
     "text": [
      "/home/mshira/.rvm/rubies/ruby-2.5.1/bin/ruby -I\"lib:lib\" -I\"/home/mshira/.rvm/gems/ruby-2.5.1/gems/rake-10.1.1/lib\" \"/home/mshira/.rvm/gems/ruby-2.5.1/gems/rake-10.1.1/lib/rake/rake_test_loader.rb\" \"test/unit/messages_test.rb\" \"test/unit/exception_handler_test.rb\" \"test/unit/modules_test.rb\" \"test/unit/connection_test.rb\" \"test/unit/completer_test.rb\" \"test/unit/csv_parser_test.rb\" \"test/unit/option_builder_test.rb\" \"test/unit/utils_test.rb\" \"test/unit/apipie/command_test.rb\" \"test/unit/apipie/option_builder_test.rb\" \"test/unit/apipie/api_connection_test.rb\" \"test/unit/apipie/option_definition_test.rb\" \"test/unit/command_extensions_test.rb\" \"test/unit/main_test.rb\" \"test/unit/options/processor_list_test.rb\" \"test/unit/options/validators/dsl_test.rb\" \"test/unit/options/sources/command_line_test.rb\" \"test/unit/options/sources/saved_defaults_test.rb\" \"test/unit/options/matcher_test.rb\" \"test/unit/options/option_collector_test.rb\" \"test/unit/options/normalizers_test.rb\" \"test/unit/options/option_definition_test.rb\" \"test/unit/settings_test.rb\" \"test/unit/history_test.rb\" \"test/unit/defaults_test.rb\" \"test/unit/logger_test.rb\" \"test/unit/output/formatters_test.rb\" \"test/unit/output/record_collection_test.rb\" \"test/unit/output/dsl_test.rb\" \"test/unit/output/definition_test.rb\" \"test/unit/output/output_test.rb\" \"test/unit/output/field_filter_test.rb\" \"test/unit/output/fields_test.rb\" \"test/unit/output/adapter/table_test.rb\" \"test/unit/output/adapter/json_test.rb\" \"test/unit/output/adapter/abstract_test.rb\" \"test/unit/output/adapter/yaml_test.rb\" \"test/unit/output/adapter/csv_test.rb\" \"test/unit/output/adapter/base_test.rb\" \"test/unit/abstract_test.rb\" \"test/unit/i18n_test.rb\" \"test/unit/bash_test.rb\" \"test/unit/help/definition/section_test.rb\" \"test/unit/help/definition/list_test.rb\" \"test/unit/help/definition/text_test.rb\" \"test/unit/help/definition/abstract_item_test.rb\" \"test/unit/help/definition/note_test.rb\" \"test/unit/help/definition_test.rb\" \"test/unit/help/builder_test.rb\" \"test/unit/help/text_builder_test.rb\" \"test/unit/ca_cert_manager_test.rb\" \"test/functional/help_test.rb\" \"test/functional/nil_values_test.rb\" \"test/functional/defaults_test.rb\" \n",
      "Mocha deprecation warning at /home/mshira/git/hammer-cli/test/test_helper.rb:14:in `require': Require 'mocha/test_unit', 'mocha/minitest' or 'mocha/api' instead of 'mocha/setup'.\n",
      "Run options: --seed 52387\n",
      "\n",
      "# Running tests:\n",
      "\n",
      "..................................................................................................................................................................................................................................................................................................................................................................................................................................................................................................................................................................................................................................................................................................................................................................................................................................................................................\n",
      "\n",
      "Finished tests in 0.409490s, 2075.7550 tests/s, 3130.7270 assertions/s.\n",
      "\n",
      "850 tests, 1282 assertions, 0 failures, 0 errors, 0 skips\n",
      "Coverage report generated for MiniTest to /home/mshira/git/coverage. 3092 / 3469 LOC (89.13%) covered.\n"
     ]
    }
   ],
   "source": [
    "! bundle exec rake test"
   ]
  },
  {
   "cell_type": "markdown",
   "metadata": {},
   "source": [
    "### Update release related stuff"
   ]
  },
  {
   "cell_type": "code",
   "execution_count": 8,
   "metadata": {},
   "outputs": [],
   "source": [
    "! sed -i 's/Gem::Version.new .*/Gem::Version.new \"{NEW_VERSION}\"/' lib/hammer_cli/version.rb"
   ]
  },
  {
   "cell_type": "code",
   "execution_count": 9,
   "metadata": {},
   "outputs": [
    {
     "data": {
      "text/markdown": [
       "* Bump version to 2.0.0\n",
       "* Bump version to 2.0 ([PR #324](https://github.com/theforeman/hammer-cli/pull/324))\n",
       "* Better promts for missing arguments, [#28793](http://projects.theforeman.org/issues/28793)\n",
       "* Allow column max width more than 80, [#28503](http://projects.theforeman.org/issues/28503)\n",
       "* Remove computing sha, [#27728](http://projects.theforeman.org/issues/27728)\n",
       "* Fixed userdata false display in image list, [#28134](http://projects.theforeman.org/issues/28134)\n",
       "* Add new bash completion, [#27728](http://projects.theforeman.org/issues/27728)\n",
       "* Allow adapters print page by page, [#17819](http://projects.theforeman.org/issues/17819)\n",
       "* Add release documentation ([PR #317](https://github.com/theforeman/hammer-cli/pull/317)), [#28149](http://projects.theforeman.org/issues/28149)\n",
       "* Fix pr links in release notes ([PR #318](https://github.com/theforeman/hammer-cli/pull/318)), [#28202](http://projects.theforeman.org/issues/28202)\n",
       "* Extract table generator into reusable component ([PR #314](https://github.com/theforeman/hammer-cli/pull/314)), [#27318](http://projects.theforeman.org/issues/27318)\n",
       "* Better prompts for missing arguments ([PR #313](https://github.com/theforeman/hammer-cli/pull/313)), [#27595](http://projects.theforeman.org/issues/27595)\n",
       "* Bump to 0.20-develop"
      ],
      "text/plain": [
       "<IPython.core.display.Markdown object>"
      ]
     },
     "execution_count": 9,
     "metadata": {},
     "output_type": "execute_result"
    }
   ],
   "source": [
    "# Parse git changelog\n",
    "from IPython.display import Markdown as md\n",
    "from subprocess import check_output\n",
    "from shlex import split\n",
    "import re\n",
    "\n",
    "def format_log_entry(entry):\n",
    "    issues = re.findall(r'[^(]#([0-9]+)', entry)\n",
    "    entry = re.sub(r'([fF]ixes|[rR]efs)[^-]*-\\s*(.*)', r'\\2', entry)\n",
    "    entry = '* ' + entry.capitalize()\n",
    "    entry = re.sub(r'\\(#([0-9]+)\\)', r'([PR #\\1](https://github.com/theforeman/hammer-cli/pull/\\1))', entry)\n",
    "    for i in issues:\n",
    "        referenced_issues.append(i)\n",
    "        entry = entry + ', [#%s](http://projects.theforeman.org/issues/%s)' % (i, i)\n",
    "    return entry\n",
    "\n",
    "def skip(entry):\n",
    "    if re.match(r'Merge pull', entry) or \\\n",
    "      re.match(r'^i18n', entry) or \\\n",
    "      re.match(r'^Bump to version', entry):\n",
    "        return True\n",
    "    else:\n",
    "        return False\n",
    "referenced_issues = []    \n",
    "git_log_cmd = 'git log --pretty=format:\"%%s\" %s..HEAD' % LAST_VERSION\n",
    "log = check_output(split(git_log_cmd)).decode('utf8').split('\\n')\n",
    "change_log = [format_log_entry(e) for e in log if not skip(e)]\n",
    "md('\\n'.join(change_log))\n"
   ]
  },
  {
   "cell_type": "code",
   "execution_count": 10,
   "metadata": {},
   "outputs": [],
   "source": [
    "# Write release notes\n",
    "from datetime import datetime\n",
    "import fileinput\n",
    "import sys\n",
    "\n",
    "fh = fileinput.input('doc/release_notes.md', inplace=True)  \n",
    "for line in fh:  \n",
    "    print(line.rstrip())\n",
    "    if re.match(r'========', line):\n",
    "        print('### %s (%s)' % (NEW_VERSION, datetime.today().strftime('%Y-%m-%d')))\n",
    "        for entry in change_log:\n",
    "            print(entry)\n",
    "        print('')\n",
    "fh.close()  "
   ]
  },
  {
   "cell_type": "markdown",
   "metadata": {},
   "source": [
    "#### Manual step: Update deps in the gemspec if neccessary"
   ]
  },
  {
   "cell_type": "markdown",
   "metadata": {},
   "source": [
    "### Check what is going to be commited"
   ]
  },
  {
   "cell_type": "code",
   "execution_count": 11,
   "metadata": {
    "scrolled": false
   },
   "outputs": [
    {
     "name": "stdout",
     "output_type": "stream",
     "text": [
      "On branch master\r\n",
      "Changes to be committed:\r\n",
      "  (use \"git reset HEAD <file>...\" to unstage)\r\n",
      "\r\n",
      "\t\u001b[32mmodified:   doc/release_notes.md\u001b[m\r\n",
      "\t\u001b[32mmodified:   lib/hammer_cli/version.rb\u001b[m\r\n",
      "\t\u001b[32mmodified:   rel-eng/gem_release.ipynb\u001b[m\r\n",
      "\r\n"
     ]
    }
   ],
   "source": [
    "! git add -u\n",
    "! git status"
   ]
  },
  {
   "cell_type": "code",
   "execution_count": 12,
   "metadata": {
    "scrolled": true
   },
   "outputs": [
    {
     "name": "stdout",
     "output_type": "stream",
     "text": [
      "\u001b[1mdiff --git a/doc/release_notes.md b/doc/release_notes.md\u001b[m\r\n",
      "\u001b[1mindex c643cf1..0ae7c05 100644\u001b[m\r\n",
      "\u001b[1m--- a/doc/release_notes.md\u001b[m\r\n",
      "\u001b[1m+++ b/doc/release_notes.md\u001b[m\r\n",
      "\u001b[36m@@ -1,5 +1,20 @@\u001b[m\r\n",
      " Release notes\u001b[m\r\n",
      " =============\u001b[m\r\n",
      "\u001b[32m+\u001b[m\u001b[32m### 2.0.0 (2020-02-12)\u001b[m\r\n",
      "\u001b[32m+\u001b[m\u001b[32m* Bump version to 2.0.0\u001b[m\r\n",
      "\u001b[32m+\u001b[m\u001b[32m* Bump version to 2.0 ([PR #324](https://github.com/theforeman/hammer-cli/pull/324))\u001b[m\r\n",
      "\u001b[32m+\u001b[m\u001b[32m* Better promts for missing arguments, [#28793](http://projects.theforeman.org/issues/28793)\u001b[m\r\n",
      "\u001b[32m+\u001b[m\u001b[32m* Allow column max width more than 80, [#28503](http://projects.theforeman.org/issues/28503)\u001b[m\r\n",
      "\u001b[32m+\u001b[m\u001b[32m* Remove computing sha, [#27728](http://projects.theforeman.org/issues/27728)\u001b[m\r\n",
      "\u001b[32m+\u001b[m\u001b[32m* Fixed userdata false display in image list, [#28134](http://projects.theforeman.org/issues/28134)\u001b[m\r\n",
      "\u001b[32m+\u001b[m\u001b[32m* Add new bash completion, [#27728](http://projects.theforeman.org/issues/27728)\u001b[m\r\n",
      "\u001b[32m+\u001b[m\u001b[32m* Allow adapters print page by page, [#17819](http://projects.theforeman.org/issues/17819)\u001b[m\r\n",
      "\u001b[32m+\u001b[m\u001b[32m* Add release documentation ([PR #317](https://github.com/theforeman/hammer-cli/pull/317)), [#28149](http://projects.theforeman.org/issues/28149)\u001b[m\r\n",
      "\u001b[32m+\u001b[m\u001b[32m* Fix pr links in release notes ([PR #318](https://github.com/theforeman/hammer-cli/pull/318)), [#28202](http://projects.theforeman.org/issues/28202)\u001b[m\r\n",
      "\u001b[32m+\u001b[m\u001b[32m* Extract table generator into reusable component ([PR #314](https://github.com/theforeman/hammer-cli/pull/314)), [#27318](http://projects.theforeman.org/issues/27318)\u001b[m\r\n",
      "\u001b[32m+\u001b[m\u001b[32m* Better prompts for missing arguments ([PR #313](https://github.com/theforeman/hammer-cli/pull/313)), [#27595](http://projects.theforeman.org/issues/27595)\u001b[m\r\n",
      "\u001b[32m+\u001b[m\u001b[32m* Bump to 0.20-develop\u001b[m\r\n",
      "\u001b[32m+\u001b[m\r\n",
      " ### 0.19.0 (2019-10-26)\u001b[m\r\n",
      " * Allow schema building for custom options ([PR #316](https://github.com/theforeman/hammer-cli/pull/316)), [#27899](http://projects.theforeman.org/issues/27899)\u001b[m\r\n",
      " * New lines in text attr dont break output ([PR #300](https://github.com/theforeman/hammer-cli/pull/300)), [#25878](http://projects.theforeman.org/issues/25878)\u001b[m\r\n",
      "\u001b[1mdiff --git a/lib/hammer_cli/version.rb b/lib/hammer_cli/version.rb\u001b[m\r\n",
      "\u001b[1mindex e168e40..47c6e96 100644\u001b[m\r\n",
      "\u001b[1m--- a/lib/hammer_cli/version.rb\u001b[m\r\n",
      "\u001b[1m+++ b/lib/hammer_cli/version.rb\u001b[m\r\n",
      "\u001b[36m@@ -1,5 +1,5 @@\u001b[m\r\n",
      " module HammerCLI\u001b[m\r\n",
      "   def self.version\u001b[m\r\n",
      "\u001b[31m-    @version ||= Gem::Version.new \"2.0.0-develop\"\u001b[m\r\n",
      "\u001b[32m+\u001b[m\u001b[32m    @version ||= Gem::Version.new \"2.0.0\"\u001b[m\r\n",
      "   end\u001b[m\r\n",
      " end\u001b[m\r\n",
      "\u001b[1mdiff --git a/rel-eng/gem_release.ipynb b/rel-eng/gem_release.ipynb\u001b[m\r\n",
      "\u001b[1mindex b5e504b..1704889 100644\u001b[m\r\n",
      "\u001b[1m--- a/rel-eng/gem_release.ipynb\u001b[m\r\n",
      "\u001b[1m+++ b/rel-eng/gem_release.ipynb\u001b[m\r\n",
      "\u001b[36m@@ -22,9 +22,17 @@\u001b[m\r\n",
      "   },\u001b[m\r\n",
      "   {\u001b[m\r\n",
      "    \"cell_type\": \"code\",\u001b[m\r\n",
      "\u001b[31m-   \"execution_count\": null,\u001b[m\r\n",
      "\u001b[31m-   \"metadata\": {},\u001b[m\r\n",
      "\u001b[31m-   \"outputs\": [],\u001b[m\r\n",
      "\u001b[32m+\u001b[m\u001b[32m   \"execution_count\": 1,\u001b[m\r\n",
      "\u001b[32m+\u001b[m\u001b[32m   \"metadata\": {},\u001b[m\r\n",
      "\u001b[32m+\u001b[m\u001b[32m   \"outputs\": [\u001b[m\r\n",
      "\u001b[32m+\u001b[m\u001b[32m    {\u001b[m\r\n",
      "\u001b[32m+\u001b[m\u001b[32m     \"name\": \"stdout\",\u001b[m\r\n",
      "\u001b[32m+\u001b[m\u001b[32m     \"output_type\": \"stream\",\u001b[m\r\n",
      "\u001b[32m+\u001b[m\u001b[32m     \"text\": [\u001b[m\r\n",
      "\u001b[32m+\u001b[m\u001b[32m      \"/home/mshira/git/hammer-cli\\n\"\u001b[m\r\n",
      "\u001b[32m+\u001b[m\u001b[32m     ]\u001b[m\r\n",
      "\u001b[32m+\u001b[m\u001b[32m    }\u001b[m\r\n",
      "\u001b[32m+\u001b[m\u001b[32m   ],\u001b[m\r\n",
      "    \"source\": [\u001b[m\r\n",
      "     \"%cd ..\"\u001b[m\r\n",
      "    ]\u001b[m\r\n",
      "\u001b[36m@@ -38,17 +46,17 @@\u001b[m\r\n",
      "   },\u001b[m\r\n",
      "   {\u001b[m\r\n",
      "    \"cell_type\": \"code\",\u001b[m\r\n",
      "\u001b[31m-   \"execution_count\": null,\u001b[m\r\n",
      "\u001b[32m+\u001b[m\u001b[32m   \"execution_count\": 2,\u001b[m\r\n",
      "    \"metadata\": {},\u001b[m\r\n",
      "    \"outputs\": [],\u001b[m\r\n",
      "    \"source\": [\u001b[m\r\n",
      "\u001b[31m-    \"NEW_VERSION = '0.19.0'\\n\",\u001b[m\r\n",
      "\u001b[31m-    \"LAST_VERSION = '0.18.0'\\n\",\u001b[m\r\n",
      "\u001b[31m-    \"DEVELOP_VERSION = '0.20-develop'\\n\",\u001b[m\r\n",
      "\u001b[31m-    \"NEXT_FUTURE_VERSION = '0.20.0'\\n\",\u001b[m\r\n",
      "\u001b[32m+\u001b[m\u001b[32m    \"NEW_VERSION = '2.0.0'\\n\",\u001b[m\r\n",
      "\u001b[32m+\u001b[m\u001b[32m    \"LAST_VERSION = '0.19.0'\\n\",\u001b[m\r\n",
      "\u001b[32m+\u001b[m\u001b[32m    \"DEVELOP_VERSION = '2.1.0-develop'\\n\",\u001b[m\r\n",
      "\u001b[32m+\u001b[m\u001b[32m    \"NEXT_FUTURE_VERSION = '2.1.0'\\n\",\u001b[m\r\n",
      "     \"MAJOR_RELEASE = True\\n\",\u001b[m\r\n",
      "\u001b[31m-    \"STABLE_BRANCH = '0.19-stable'\\n\",\u001b[m\r\n",
      "\u001b[31m-    \"GIT_REMOTE_UPSTREAM = 'upstream'\\n\",\u001b[m\r\n",
      "\u001b[32m+\u001b[m\u001b[32m    \"STABLE_BRANCH = '2.0-stable'\\n\",\u001b[m\r\n",
      "\u001b[32m+\u001b[m\u001b[32m    \"GIT_REMOTE_UPSTREAM = 'origin'\\n\",\u001b[m\r\n",
      "     \"WORK_BRANCH = 'master' if MAJOR_RELEASE else STABLE_BRANCH\"\u001b[m\r\n",
      "    ]\u001b[m\r\n",
      "   },\u001b[m\r\n",
      "\u001b[36m@@ -61,27 +69,60 @@\u001b[m\r\n",
      "   },\u001b[m\r\n",
      "   {\u001b[m\r\n",
      "    \"cell_type\": \"code\",\u001b[m\r\n",
      "\u001b[31m-   \"execution_count\": null,\u001b[m\r\n",
      "\u001b[31m-   \"metadata\": {},\u001b[m\r\n",
      "\u001b[31m-   \"outputs\": [],\u001b[m\r\n",
      "\u001b[32m+\u001b[m\u001b[32m   \"execution_count\": 3,\u001b[m\r\n",
      "\u001b[32m+\u001b[m\u001b[32m   \"metadata\": {},\u001b[m\r\n",
      "\u001b[32m+\u001b[m\u001b[32m   \"outputs\": [\u001b[m\r\n",
      "\u001b[32m+\u001b[m\u001b[32m    {\u001b[m\r\n",
      "\u001b[32m+\u001b[m\u001b[32m     \"name\": \"stdout\",\u001b[m\r\n",
      "\u001b[32m+\u001b[m\u001b[32m     \"output_type\": \"stream\",\u001b[m\r\n",
      "\u001b[32m+\u001b[m\u001b[32m     \"text\": [\u001b[m\r\n",
      "\u001b[32m+\u001b[m\u001b[32m      \"M\\trel-eng/gem_release.ipynb\\r\\n\",\u001b[m\r\n",
      "\u001b[32m+\u001b[m\u001b[32m      \"Already on 'master'\\r\\n\"\u001b[m\r\n",
      "\u001b[32m+\u001b[m\u001b[32m     ]\u001b[m\r\n",
      "\u001b[32m+\u001b[m\u001b[32m    }\u001b[m\r\n",
      "\u001b[32m+\u001b[m\u001b[32m   ],\u001b[m\r\n",
      "    \"source\": [\u001b[m\r\n",
      "     \"! git checkout {WORK_BRANCH}\"\u001b[m\r\n",
      "    ]\u001b[m\r\n",
      "   },\u001b[m\r\n",
      "   {\u001b[m\r\n",
      "    \"cell_type\": \"code\",\u001b[m\r\n",
      "\u001b[31m-   \"execution_count\": null,\u001b[m\r\n",
      "\u001b[31m-   \"metadata\": {},\u001b[m\r\n",
      "\u001b[31m-   \"outputs\": [],\u001b[m\r\n",
      "\u001b[32m+\u001b[m\u001b[32m   \"execution_count\": 4,\u001b[m\r\n",
      "\u001b[32m+\u001b[m\u001b[32m   \"metadata\": {},\u001b[m\r\n",
      "\u001b[32m+\u001b[m\u001b[32m   \"outputs\": [\u001b[m\r\n",
      "\u001b[32m+\u001b[m\u001b[32m    {\u001b[m\r\n",
      "\u001b[32m+\u001b[m\u001b[32m     \"name\": \"stdout\",\u001b[m\r\n",
      "\u001b[32m+\u001b[m\u001b[32m     \"output_type\": \"stream\",\u001b[m\r\n",
      "\u001b[32m+\u001b[m\u001b[32m     \"text\": [\u001b[m\r\n",
      "\u001b[32m+\u001b[m\u001b[32m      \"remote: Enumerating objects: 14, done.\\u001b[K\\n\",\u001b[m\r\n",
      "\u001b[32m+\u001b[m\u001b[32m      \"remote: Counting objects: 100% (14/14), done.\\u001b[K\\n\",\u001b[m\r\n",
      "\u001b[32m+\u001b[m\u001b[32m      \"remote: Compressing objects: 100% (10/10), done.\\u001b[K\\n\",\u001b[m\r\n",
      "\u001b[32m+\u001b[m\u001b[32m      \"remote: Total 14 (delta 4), reused 8 (delta 4), pack-reused 0\\u001b[K\\n\",\u001b[m\r\n",
      "\u001b[32m+\u001b[m\u001b[32m      \"Unpacking objects: 100% (14/14), done.\\n\",\u001b[m\r\n",
      "\u001b[32m+\u001b[m\u001b[32m      \"From github.com:theforeman/hammer-cli\\n\",\u001b[m\r\n",
      "\u001b[32m+\u001b[m\u001b[32m      \"   bc12a4d..d62870f  0.19-stable -> origin/0.19-stable\\n\",\u001b[m\r\n",
      "\u001b[32m+\u001b[m\u001b[32m      \" * [new tag]         0.19.2      -> 0.19.2\\n\"\u001b[m\r\n",
      "\u001b[32m+\u001b[m\u001b[32m     ]\u001b[m\r\n",
      "\u001b[32m+\u001b[m\u001b[32m    }\u001b[m\r\n",
      "\u001b[32m+\u001b[m\u001b[32m   ],\u001b[m\r\n",
      "    \"source\": [\u001b[m\r\n",
      "     \"! git fetch {GIT_REMOTE_UPSTREAM}\"\u001b[m\r\n",
      "    ]\u001b[m\r\n",
      "   },\u001b[m\r\n",
      "   {\u001b[m\r\n",
      "    \"cell_type\": \"code\",\u001b[m\r\n",
      "\u001b[31m-   \"execution_count\": null,\u001b[m\r\n",
      "\u001b[31m-   \"metadata\": {},\u001b[m\r\n",
      "\u001b[31m-   \"outputs\": [],\u001b[m\r\n",
      "\u001b[32m+\u001b[m\u001b[32m   \"execution_count\": 6,\u001b[m\r\n",
      "\u001b[32m+\u001b[m\u001b[32m   \"metadata\": {},\u001b[m\r\n",
      "\u001b[32m+\u001b[m\u001b[32m   \"outputs\": [\u001b[m\r\n",
      "\u001b[32m+\u001b[m\u001b[32m    {\u001b[m\r\n",
      "\u001b[32m+\u001b[m\u001b[32m     \"name\": \"stdout\",\u001b[m\r\n",
      "\u001b[32m+\u001b[m\u001b[32m     \"output_type\": \"stream\",\u001b[m\r\n",
      "\u001b[32m+\u001b[m\u001b[32m     \"text\": [\u001b[m\r\n",
      "\u001b[32m+\u001b[m\u001b[32m      \"error: cannot rebase: You have unstaged changes.\\r\\n\",\u001b[m\r\n",
      "\u001b[32m+\u001b[m\u001b[32m      \"error: Please commit or stash them.\\r\\n\"\u001b[m\r\n",
      "\u001b[32m+\u001b[m\u001b[32m     ]\u001b[m\r\n",
      "\u001b[32m+\u001b[m\u001b[32m    }\u001b[m\r\n",
      "\u001b[32m+\u001b[m\u001b[32m   ],\u001b[m\r\n",
      "    \"source\": [\u001b[m\r\n",
      "     \"! git rebase {GIT_REMOTE_UPSTREAM}/{WORK_BRANCH}\"\u001b[m\r\n",
      "    ]\u001b[m\r\n",
      "\u001b[36m@@ -95,18 +136,98 @@\u001b[m\r\n",
      "   },\u001b[m\r\n",
      "   {\u001b[m\r\n",
      "    \"cell_type\": \"code\",\u001b[m\r\n",
      "\u001b[31m-   \"execution_count\": null,\u001b[m\r\n",
      "\u001b[31m-   \"metadata\": {},\u001b[m\r\n",
      "\u001b[31m-   \"outputs\": [],\u001b[m\r\n",
      "\u001b[32m+\u001b[m\u001b[32m   \"execution_count\": 5,\u001b[m\r\n",
      "\u001b[32m+\u001b[m\u001b[32m   \"metadata\": {},\u001b[m\r\n",
      "\u001b[32m+\u001b[m\u001b[32m   \"outputs\": [\u001b[m\r\n",
      "\u001b[32m+\u001b[m\u001b[32m    {\u001b[m\r\n",
      "\u001b[32m+\u001b[m\u001b[32m     \"name\": \"stdout\",\u001b[m\r\n",
      "\u001b[32m+\u001b[m\u001b[32m     \"output_type\": \"stream\",\u001b[m\r\n",
      "\u001b[32m+\u001b[m\u001b[32m     \"text\": [\u001b[m\r\n",
      "\u001b[32m+\u001b[m\u001b[32m      \"Fetching gem metadata from https://rubygems.org/........\\n\",\u001b[m\r\n",
      "\u001b[32m+\u001b[m\u001b[32m      \"Resolving dependencies...\\n\",\u001b[m\r\n",
      "\u001b[32m+\u001b[m\u001b[32m      \"Using rake 10.1.1\\n\",\u001b[m\r\n",
      "\u001b[32m+\u001b[m\u001b[32m      \"Using json 2.3.0\\n\",\u001b[m\r\n",
      "\u001b[32m+\u001b[m\u001b[32m      \"Using oauth 0.5.4\\n\",\u001b[m\r\n",
      "\u001b[32m+\u001b[m\u001b[32m      \"Using http-accept 1.7.0\\n\",\u001b[m\r\n",
      "\u001b[32m+\u001b[m\u001b[32m      \"Using unf_ext 0.0.7.6\\n\",\u001b[m\r\n",
      "\u001b[32m+\u001b[m\u001b[32m      \"Using unf 0.1.4\\n\",\u001b[m\r\n",
      "\u001b[32m+\u001b[m\u001b[32m      \"Using domain_name 0.5.20190701\\n\",\u001b[m\r\n",
      "\u001b[32m+\u001b[m\u001b[32m      \"Using http-cookie 1.0.3\\n\",\u001b[m\r\n",
      "\u001b[32m+\u001b[m\u001b[32m      \"Using mime-types-data 3.2019.1009\\n\",\u001b[m\r\n",
      "\u001b[32m+\u001b[m\u001b[32m      \"Using mime-types 3.3.1\\n\",\u001b[m\r\n",
      "\u001b[32m+\u001b[m\u001b[32m      \"Using netrc 0.11.0\\n\",\u001b[m\r\n",
      "\u001b[32m+\u001b[m\u001b[32m      \"Using rest-client 2.1.0\\n\",\u001b[m\r\n",
      "\u001b[32m+\u001b[m\u001b[32m      \"Using apipie-bindings 0.3.0\\n\",\u001b[m\r\n",
      "\u001b[32m+\u001b[m\u001b[32m      \"Using awesome_print 1.8.0\\n\",\u001b[m\r\n",
      "\u001b[32m+\u001b[m\u001b[32m      \"Using debug_inspector 0.0.3\\n\",\u001b[m\r\n",
      "\u001b[32m+\u001b[m\u001b[32m      \"Using binding_of_caller 0.8.0\\n\",\u001b[m\r\n",
      "\u001b[32m+\u001b[m\u001b[32m      \"Using builder 3.2.4\\n\",\u001b[m\r\n",
      "\u001b[32m+\u001b[m\u001b[32m      \"Using bundler 1.17.3\\n\",\u001b[m\r\n",
      "\u001b[32m+\u001b[m\u001b[32m      \"Using byebug 11.1.1\\u001b[32m (was 11.0.1)\\u001b[0m\\n\",\u001b[m\r\n",
      "\u001b[32m+\u001b[m\u001b[32m      \"Using ci_reporter 1.9.3\\n\",\u001b[m\r\n",
      "\u001b[32m+\u001b[m\u001b[32m      \"Using clamp 1.1.2\\n\",\u001b[m\r\n",
      "\u001b[32m+\u001b[m\u001b[32m      \"Using coderay 1.1.2\\n\",\u001b[m\r\n",
      "\u001b[32m+\u001b[m\u001b[32m      \"Using docile 1.3.2\\n\",\u001b[m\r\n",
      "\u001b[32m+\u001b[m\u001b[32m      \"Using fast_gettext 2.0.2\\u001b[32m (was 2.0.1)\\u001b[0m\\n\",\u001b[m\r\n",
      "\u001b[32m+\u001b[m\u001b[32m      \"\\u001b[32mFetching locale 2.1.3\\u001b[32m (was 2.1.2)\\u001b[0m\\u001b[0m\\n\",\u001b[m\r\n",
      "\u001b[32m+\u001b[m\u001b[32m      \"\\u001b[32mInstalling locale 2.1.3\\u001b[32m (was 2.1.2)\\u001b[0m\\u001b[0m\\n\",\u001b[m\r\n",
      "\u001b[32m+\u001b[m\u001b[32m      \"Using text 1.3.1\\n\",\u001b[m\r\n",
      "\u001b[32m+\u001b[m\u001b[32m      \"\\u001b[32mFetching gettext 3.3.4\\u001b[32m (was 3.2.9)\\u001b[0m\\u001b[0m\\n\",\u001b[m\r\n",
      "\u001b[32m+\u001b[m\u001b[32m      \"\\u001b[32mInstalling gettext 3.3.4\\u001b[32m (was 3.2.9)\\u001b[0m\\u001b[0m\\n\",\u001b[m\r\n",
      "\u001b[32m+\u001b[m\u001b[32m      \"Using highline 2.0.3\\n\",\u001b[m\r\n",
      "\u001b[32m+\u001b[m\u001b[32m      \"Using little-plugger 1.1.4\\n\",\u001b[m\r\n",
      "\u001b[32m+\u001b[m\u001b[32m      \"Using multi_json 1.14.1\\n\",\u001b[m\r\n",
      "\u001b[32m+\u001b[m\u001b[32m      \"Using logging 2.2.2\\n\",\u001b[m\r\n",
      "\u001b[32m+\u001b[m\u001b[32m      \"Using unicode 0.4.4.4\\n\",\u001b[m\r\n",
      "\u001b[32m+\u001b[m\u001b[32m      \"Using unicode-display_width 1.6.1\\u001b[32m (was 1.6.0)\\u001b[0m\\n\",\u001b[m\r\n",
      "\u001b[32m+\u001b[m\u001b[32m      \"Using hammer_cli 2.0.0.pre.develop\\u001b[32m (was 0.19.1)\\u001b[0m from source at `.`\\n\",\u001b[m\r\n",
      "\u001b[32m+\u001b[m\u001b[32m      \"Using interception 0.5\\n\",\u001b[m\r\n",
      "\u001b[32m+\u001b[m\u001b[32m      \"Using method_source 0.9.2\\n\",\u001b[m\r\n",
      "\u001b[32m+\u001b[m\u001b[32m      \"Using minitest 4.7.4\\n\",\u001b[m\r\n",
      "\u001b[32m+\u001b[m\u001b[32m      \"Using minitest-spec-context 0.0.4\\n\",\u001b[m\r\n",
      "\u001b[32m+\u001b[m\u001b[32m      \"Using mocha 1.11.2\\u001b[32m (was 1.11.1)\\u001b[0m\\n\",\u001b[m\r\n",
      "\u001b[32m+\u001b[m\u001b[32m      \"Using pry 0.12.2\\n\",\u001b[m\r\n",
      "\u001b[32m+\u001b[m\u001b[32m      \"Using pry-byebug 3.8.0\\u001b[32m (was 3.7.0)\\u001b[0m\\n\",\u001b[m\r\n",
      "\u001b[32m+\u001b[m\u001b[32m      \"Using yard 0.9.24\\u001b[32m (was 0.9.20)\\u001b[0m\\n\",\u001b[m\r\n",
      "\u001b[32m+\u001b[m\u001b[32m      \"Using pry-doc 1.0.0\\n\",\u001b[m\r\n",
      "\u001b[32m+\u001b[m\u001b[32m      \"Using pry-rails 0.3.9\\n\",\u001b[m\r\n",
      "\u001b[32m+\u001b[m\u001b[32m      \"Using pry-rescue 1.5.0\\n\",\u001b[m\r\n",
      "\u001b[32m+\u001b[m\u001b[32m      \"Using pry-stack_explorer 0.4.9.3\\n\",\u001b[m\r\n",
      "\u001b[32m+\u001b[m\u001b[32m      \"Using simplecov-html 0.11.0\\u001b[32m (was 0.10.2)\\u001b[0m\\n\",\u001b[m\r\n",
      "\u001b[32m+\u001b[m\u001b[32m      \"Using simplecov 0.18.1\\u001b[32m (was 0.17.1)\\u001b[0m\\n\",\u001b[m\r\n",
      "\u001b[32m+\u001b[m\u001b[32m      \"Using thor 1.0.1\\n\",\u001b[m\r\n",
      "\u001b[32m+\u001b[m\u001b[32m      \"\\u001b[32mBundle updated!\\u001b[0m\\n\"\u001b[m\r\n",
      "\u001b[32m+\u001b[m\u001b[32m     ]\u001b[m\r\n",
      "\u001b[32m+\u001b[m\u001b[32m    }\u001b[m\r\n",
      "\u001b[32m+\u001b[m\u001b[32m   ],\u001b[m\r\n",
      "    \"source\": [\u001b[m\r\n",
      "     \"! bundle update\"\u001b[m\r\n",
      "    ]\u001b[m\r\n",
      "   },\u001b[m\r\n",
      "   {\u001b[m\r\n",
      "    \"cell_type\": \"code\",\u001b[m\r\n",
      "\u001b[31m-   \"execution_count\": null,\u001b[m\r\n",
      "\u001b[31m-   \"metadata\": {},\u001b[m\r\n",
      "\u001b[31m-   \"outputs\": [],\u001b[m\r\n",
      "\u001b[32m+\u001b[m\u001b[32m   \"execution_count\": 7,\u001b[m\r\n",
      "\u001b[32m+\u001b[m\u001b[32m   \"metadata\": {},\u001b[m\r\n",
      "\u001b[32m+\u001b[m\u001b[32m   \"outputs\": [\u001b[m\r\n",
      "\u001b[32m+\u001b[m\u001b[32m    {\u001b[m\r\n",
      "\u001b[32m+\u001b[m\u001b[32m     \"name\": \"stdout\",\u001b[m\r\n",
      "\u001b[32m+\u001b[m\u001b[32m     \"output_type\": \"stream\",\u001b[m\r\n",
      "\u001b[32m+\u001b[m\u001b[32m     \"text\": [\u001b[m\r\n",
      "\u001b[32m+\u001b[m\u001b[32m      \"/home/mshira/.rvm/rubies/ruby-2.5.1/bin/ruby -I\\\"lib:lib\\\" -I\\\"/home/mshira/.rvm/gems/ruby-2.5.1/gems/rake-10.1.1/lib\\\" \\\"/home/mshira/.rvm/gems/ruby-2.5.1/gems/rake-10.1.1/lib/rake/rake_test_loader.rb\\\" \\\"test/unit/messages_test.rb\\\" \\\"test/unit/exception_handler_test.rb\\\" \\\"test/unit/modules_test.rb\\\" \\\"test/unit/connection_test.rb\\\" \\\"test/unit/completer_test.rb\\\" \\\"test/unit/csv_parser_test.rb\\\" \\\"test/unit/option_builder_test.rb\\\" \\\"test/unit/utils_test.rb\\\" \\\"test/unit/apipie/command_test.rb\\\" \\\"test/unit/apipie/option_builder_test.rb\\\" \\\"test/unit/apipie/api_connection_test.rb\\\" \\\"test/unit/apipie/option_definition_test.rb\\\" \\\"test/unit/command_extensions_test.rb\\\" \\\"test/unit/main_test.rb\\\" \\\"test/unit/options/processor_list_test.rb\\\" \\\"test/unit/options/validators/dsl_test.rb\\\" \\\"test/unit/options/sources/command_line_test.rb\\\" \\\"test/unit/options/sources/saved_defaults_test.rb\\\" \\\"test/unit/options/matcher_test.rb\\\" \\\"test/unit/options/option_collector_test.rb\\\" \\\"test/unit/options/normalizers_test.rb\\\" \\\"test/unit/options/option_definition_test.rb\\\" \\\"test/unit/settings_test.rb\\\" \\\"test/unit/history_test.rb\\\" \\\"test/unit/defaults_test.rb\\\" \\\"test/unit/logger_test.rb\\\" \\\"test/unit/output/formatters_test.rb\\\" \\\"test/unit/output/record_collection_test.rb\\\" \\\"test/unit/output/dsl_test.rb\\\" \\\"test/unit/output/definition_test.rb\\\" \\\"test/unit/output/output_test.rb\\\" \\\"test/unit/output/field_filter_test.rb\\\" \\\"test/unit/output/fields_test.rb\\\" \\\"test/unit/output/adapter/table_test.rb\\\" \\\"test/unit/output/adapter/json_test.rb\\\" \\\"test/unit/output/adapter/abstract_test.rb\\\" \\\"test/unit/output/adapter/yaml_test.rb\\\" \\\"test/unit/output/adapter/csv_test.rb\\\" \\\"test/unit/output/adapter/base_test.rb\\\" \\\"test/unit/abstract_test.rb\\\" \\\"test/unit/i18n_test.rb\\\" \\\"test/unit/bash_test.rb\\\" \\\"test/unit/help/definition/section_test.rb\\\" \\\"test/unit/help/definition/list_test.rb\\\" \\\"test/unit/help/definition/text_test.rb\\\" \\\"test/unit/help/definition/abstract_item_test.rb\\\" \\\"test/unit/help/definition/note_test.rb\\\" \\\"test/unit/help/definition_test.rb\\\" \\\"test/unit/help/builder_test.rb\\\" \\\"test/unit/help/text_builder_test.rb\\\" \\\"test/unit/ca_cert_manager_test.rb\\\" \\\"test/functional/help_test.rb\\\" \\\"test/functional/nil_values_test.rb\\\" \\\"test/functional/defaults_test.rb\\\" \\n\",\u001b[m\r\n",
      "\u001b[32m+\u001b[m\u001b[32m      \"Mocha deprecation warning at /home/mshira/git/hammer-cli/test/test_helper.rb:14:in `require': Require 'mocha/test_unit', 'mocha/minitest' or 'mocha/api' instead of 'mocha/setup'.\\n\",\u001b[m\r\n",
      "\u001b[32m+\u001b[m\u001b[32m      \"Run options: --seed 52387\\n\",\u001b[m\r\n",
      "\u001b[32m+\u001b[m\u001b[32m      \"\\n\",\u001b[m\r\n",
      "\u001b[32m+\u001b[m\u001b[32m      \"# Running tests:\\n\",\u001b[m\r\n",
      "\u001b[32m+\u001b[m\u001b[32m      \"\\n\",\u001b[m\r\n",
      "\u001b[32m+\u001b[m\u001b[32m      \"..................................................................................................................................................................................................................................................................................................................................................................................................................................................................................................................................................................................................................................................................................................................................................................................................................................................................................\\n\",\u001b[m\r\n",
      "\u001b[32m+\u001b[m\u001b[32m      \"\\n\",\u001b[m\r\n",
      "\u001b[32m+\u001b[m\u001b[32m      \"Finished tests in 0.409490s, 2075.7550 tests/s, 3130.7270 assertions/s.\\n\",\u001b[m\r\n",
      "\u001b[32m+\u001b[m\u001b[32m      \"\\n\",\u001b[m\r\n",
      "\u001b[32m+\u001b[m\u001b[32m      \"850 tests, 1282 assertions, 0 failures, 0 errors, 0 skips\\n\",\u001b[m\r\n",
      "\u001b[32m+\u001b[m\u001b[32m      \"Coverage report generated for MiniTest to /home/mshira/git/coverage. 3092 / 3469 LOC (89.13%) covered.\\n\"\u001b[m\r\n",
      "\u001b[32m+\u001b[m\u001b[32m     ]\u001b[m\r\n",
      "\u001b[32m+\u001b[m\u001b[32m    }\u001b[m\r\n",
      "\u001b[32m+\u001b[m\u001b[32m   ],\u001b[m\r\n",
      "    \"source\": [\u001b[m\r\n",
      "     \"! bundle exec rake test\"\u001b[m\r\n",
      "    ]\u001b[m\r\n",
      "\u001b[36m@@ -120,7 +241,7 @@\u001b[m\r\n",
      "   },\u001b[m\r\n",
      "   {\u001b[m\r\n",
      "    \"cell_type\": \"code\",\u001b[m\r\n",
      "\u001b[31m-   \"execution_count\": null,\u001b[m\r\n",
      "\u001b[32m+\u001b[m\u001b[32m   \"execution_count\": 8,\u001b[m\r\n",
      "    \"metadata\": {},\u001b[m\r\n",
      "    \"outputs\": [],\u001b[m\r\n",
      "    \"source\": [\u001b[m\r\n",
      "\u001b[36m@@ -477,7 +598,7 @@\u001b[m\r\n",
      "    \"name\": \"python\",\u001b[m\r\n",
      "    \"nbconvert_exporter\": \"python\",\u001b[m\r\n",
      "    \"pygments_lexer\": \"ipython3\",\u001b[m\r\n",
      "\u001b[31m-   \"version\": \"3.7.4\"\u001b[m\r\n",
      "\u001b[32m+\u001b[m\u001b[32m   \"version\": \"3.7.5\"\u001b[m\r\n",
      "   }\u001b[m\r\n",
      "  },\u001b[m\r\n",
      "  \"nbformat\": 4,\u001b[m\r\n"
     ]
    }
   ],
   "source": [
    "! git diff --cached"
   ]
  },
  {
   "cell_type": "markdown",
   "metadata": {},
   "source": [
    "### Commit changes"
   ]
  },
  {
   "cell_type": "code",
   "execution_count": 13,
   "metadata": {
    "scrolled": true
   },
   "outputs": [
    {
     "name": "stdout",
     "output_type": "stream",
     "text": [
      "[master 71f251a] Bump to 2.0.0\r\n",
      " 3 files changed, 164 insertions(+), 28 deletions(-)\r\n"
     ]
    }
   ],
   "source": [
    "! git commit -m \"Bump to {NEW_VERSION}\""
   ]
  },
  {
   "cell_type": "markdown",
   "metadata": {},
   "source": [
    "### Update translations"
   ]
  },
  {
   "cell_type": "code",
   "execution_count": 18,
   "metadata": {},
   "outputs": [
    {
     "name": "stdout",
     "output_type": "stream",
     "text": [
      "make: Entering directory '/home/mshira/git/hammer-cli/locale'\n",
      "bundle exec rake gettext:find\n",
      "(in /home/mshira/git/hammer-cli)\n",
      "touch /home/mshira/git/hammer-cli/lib/hammer_cli/../../locale/es/hammer-cli.po.time_stamp\n",
      "touch /home/mshira/git/hammer-cli/lib/hammer_cli/../../locale/de/hammer-cli.po.time_stamp\n",
      "touch /home/mshira/git/hammer-cli/lib/hammer_cli/../../locale/en_GB/hammer-cli.po.time_stamp\n",
      "tx pull -f\n",
      "tx INFO: Pulling translations for resource foreman.hammer-cli (source: locale/hammer-cli.pot)\n",
      "tx INFO:  -> \u001b[0;31mit\u001b[0m: locale/it/hammer-cli.edit.po\n",
      "tx INFO:  -> \u001b[0;31mpt_BR\u001b[0m: locale/pt_BR/hammer-cli.edit.po\n",
      "tx INFO:  -> \u001b[0;31mko\u001b[0m: locale/ko/hammer-cli.edit.po\n",
      "tx INFO:  -> \u001b[0;31mja\u001b[0m: locale/ja/hammer-cli.edit.po\n",
      "tx INFO:  -> \u001b[0;31mde\u001b[0m: locale/de/hammer-cli.edit.po\n",
      "tx INFO:  -> \u001b[0;31mca\u001b[0m: locale/ca/hammer-cli.edit.po\n",
      "tx INFO:  -> \u001b[0;31mzh_TW\u001b[0m: locale/zh_TW/hammer-cli.edit.po\n",
      "tx INFO:  -> \u001b[0;31men_GB\u001b[0m: locale/en_GB/hammer-cli.edit.po\n",
      "tx INFO:  -> \u001b[0;31mfr\u001b[0m: locale/fr/hammer-cli.edit.po\n",
      "tx INFO:  -> \u001b[0;31mru\u001b[0m: locale/ru/hammer-cli.edit.po\n",
      "tx INFO:  -> \u001b[0;31mzh_CN\u001b[0m: locale/zh_CN/hammer-cli.edit.po\n",
      "tx INFO:  -> \u001b[0;31mes\u001b[0m: locale/es/hammer-cli.edit.po\n",
      "tx INFO: Done.\n",
      "for f in ./ja/hammer-cli.edit.po ./es/hammer-cli.edit.po ./pt_BR/hammer-cli.edit.po ./en/hammer-cli.edit.po ./de/hammer-cli.edit.po ./it/hammer-cli.edit.po ./zh_CN/hammer-cli.edit.po ./ca/hammer-cli.edit.po ./fr/hammer-cli.edit.po ./ko/hammer-cli.edit.po ./zh_TW/hammer-cli.edit.po ./en_GB/hammer-cli.edit.po ./ru/hammer-cli.edit.po; do \\\n",
      "\tsed -i 's/^\\(\"Project-Id-Version: \\).*$/\\1hammer-cli 2.0.0\\\\n\"/' $f; \\\n",
      "done\n",
      "for f in ./ja/hammer-cli.edit.po ./es/hammer-cli.edit.po ./pt_BR/hammer-cli.edit.po ./en/hammer-cli.edit.po ./de/hammer-cli.edit.po ./it/hammer-cli.edit.po ./zh_CN/hammer-cli.edit.po ./ca/hammer-cli.edit.po ./fr/hammer-cli.edit.po ./ko/hammer-cli.edit.po ./zh_TW/hammer-cli.edit.po ./en_GB/hammer-cli.edit.po ./ru/hammer-cli.edit.po; do \\\n",
      "\tmsgcat --use-first --no-location $f ${f//.edit/} > ${f//.edit/}; \\\n",
      "done\n",
      "mkdir -p ja/LC_MESSAGES\n",
      "msgfmt -o ja/LC_MESSAGES/hammer-cli.mo ja/hammer-cli.po\n",
      "mkdir -p es/LC_MESSAGES\n",
      "msgfmt -o es/LC_MESSAGES/hammer-cli.mo es/hammer-cli.po\n",
      "mkdir -p pt_BR/LC_MESSAGES\n",
      "msgfmt -o pt_BR/LC_MESSAGES/hammer-cli.mo pt_BR/hammer-cli.po\n",
      "mkdir -p en/LC_MESSAGES\n",
      "msgfmt -o en/LC_MESSAGES/hammer-cli.mo en/hammer-cli.po\n",
      "mkdir -p de/LC_MESSAGES\n",
      "msgfmt -o de/LC_MESSAGES/hammer-cli.mo de/hammer-cli.po\n",
      "mkdir -p it/LC_MESSAGES\n",
      "msgfmt -o it/LC_MESSAGES/hammer-cli.mo it/hammer-cli.po\n",
      "mkdir -p zh_CN/LC_MESSAGES\n",
      "msgfmt -o zh_CN/LC_MESSAGES/hammer-cli.mo zh_CN/hammer-cli.po\n",
      "mkdir -p ca/LC_MESSAGES\n",
      "msgfmt -o ca/LC_MESSAGES/hammer-cli.mo ca/hammer-cli.po\n",
      "mkdir -p fr/LC_MESSAGES\n",
      "msgfmt -o fr/LC_MESSAGES/hammer-cli.mo fr/hammer-cli.po\n",
      "mkdir -p ko/LC_MESSAGES\n",
      "msgfmt -o ko/LC_MESSAGES/hammer-cli.mo ko/hammer-cli.po\n",
      "mkdir -p zh_TW/LC_MESSAGES\n",
      "msgfmt -o zh_TW/LC_MESSAGES/hammer-cli.mo zh_TW/hammer-cli.po\n",
      "mkdir -p en_GB/LC_MESSAGES\n",
      "msgfmt -o en_GB/LC_MESSAGES/hammer-cli.mo en_GB/hammer-cli.po\n",
      "mkdir -p ru/LC_MESSAGES\n",
      "msgfmt -o ru/LC_MESSAGES/hammer-cli.mo ru/hammer-cli.po\n",
      "git add ../locale\n",
      "git commit -m \"i18n - extracting new, pulling from tx\"\n",
      "[master 480a4a0] i18n - extracting new, pulling from tx\n",
      " 27 files changed, 93 insertions(+), 75 deletions(-)\n",
      "Changes commited!\n",
      "make: Leaving directory '/home/mshira/git/hammer-cli/locale'\n"
     ]
    }
   ],
   "source": [
    "if MAJOR_RELEASE:\n",
    "    ! make -C locale/ tx-update"
   ]
  },
  {
   "cell_type": "markdown",
   "metadata": {},
   "source": [
    "### Tag new version"
   ]
  },
  {
   "cell_type": "code",
   "execution_count": 15,
   "metadata": {},
   "outputs": [],
   "source": [
    "! git tag {NEW_VERSION}"
   ]
  },
  {
   "cell_type": "markdown",
   "metadata": {},
   "source": [
    "### Prepare stable branch for major release"
   ]
  },
  {
   "cell_type": "code",
   "execution_count": 19,
   "metadata": {},
   "outputs": [
    {
     "name": "stdout",
     "output_type": "stream",
     "text": [
      "M\trel-eng/gem_release.ipynb\n",
      "Switched to a new branch '2.0-stable'\n",
      "Enumerating objects: 107, done.\n",
      "Counting objects: 100% (107/107), done.\n",
      "Delta compression using up to 8 threads\n",
      "Compressing objects: 100% (52/52), done.\n",
      "Writing objects: 100% (65/65), 66.35 KiB | 3.69 MiB/s, done.\n",
      "Total 65 (delta 26), reused 0 (delta 0)\n",
      "remote: Resolving deltas: 100% (26/26), completed with 13 local objects.\u001b[K\n",
      "remote: \n",
      "remote: Create a pull request for '2.0-stable' on GitHub by visiting:\u001b[K\n",
      "remote:      https://github.com/theforeman/hammer-cli/pull/new/2.0-stable\u001b[K\n",
      "remote: \n",
      "To github.com:theforeman/hammer-cli.git\n",
      " * [new branch]      2.0-stable -> 2.0-stable\n",
      "M\trel-eng/gem_release.ipynb\n",
      "Switched to branch 'master'\n"
     ]
    }
   ],
   "source": [
    "if MAJOR_RELEASE:\n",
    "    ! git checkout -b {STABLE_BRANCH}\n",
    "    ! git push {GIT_REMOTE_UPSTREAM} {STABLE_BRANCH}\n",
    "    ! git checkout {WORK_BRANCH}"
   ]
  },
  {
   "cell_type": "markdown",
   "metadata": {},
   "source": [
    "### Build the gem"
   ]
  },
  {
   "cell_type": "code",
   "execution_count": 20,
   "metadata": {},
   "outputs": [
    {
     "name": "stdout",
     "output_type": "stream",
     "text": [
      "\u001b[32mhammer_cli 2.0.0 built to pkg/hammer_cli-2.0.0.gem.\u001b[0m\r\n"
     ]
    }
   ],
   "source": [
    "! rake build"
   ]
  },
  {
   "cell_type": "code",
   "execution_count": null,
   "metadata": {},
   "outputs": [],
   "source": [
    "! gem push pkg/hammer_cli-{NEW_VERSION}.gem"
   ]
  },
  {
   "cell_type": "markdown",
   "metadata": {},
   "source": [
    "### Bump the develop version for major release"
   ]
  },
  {
   "cell_type": "code",
   "execution_count": null,
   "metadata": {},
   "outputs": [],
   "source": [
    "if MAJOR_RELEASE:\n",
    "    ! sed -i 's/Gem::Version.new .*/Gem::Version.new \"{DEVELOP_VERSION}\"/' lib/hammer_cli/version.rb"
   ]
  },
  {
   "cell_type": "code",
   "execution_count": null,
   "metadata": {
    "scrolled": true
   },
   "outputs": [],
   "source": [
    "if MAJOR_RELEASE:\n",
    "    ! git add -u\n",
    "    ! git status"
   ]
  },
  {
   "cell_type": "code",
   "execution_count": null,
   "metadata": {
    "scrolled": true
   },
   "outputs": [],
   "source": [
    "if MAJOR_RELEASE:\n",
    "    ! git diff --cached"
   ]
  },
  {
   "cell_type": "code",
   "execution_count": null,
   "metadata": {
    "scrolled": true
   },
   "outputs": [],
   "source": [
    "if MAJOR_RELEASE:\n",
    "    ! git commit -m \"Bump to {DEVELOP_VERSION}\""
   ]
  },
  {
   "cell_type": "markdown",
   "metadata": {},
   "source": [
    "### PUSH the changes upstream If everything is correct"
   ]
  },
  {
   "cell_type": "code",
   "execution_count": null,
   "metadata": {},
   "outputs": [],
   "source": [
    "! git push {GIT_REMOTE_UPSTREAM} {WORK_BRANCH}"
   ]
  },
  {
   "cell_type": "code",
   "execution_count": null,
   "metadata": {},
   "outputs": [],
   "source": [
    "! git push --tags {GIT_REMOTE_UPSTREAM} {WORK_BRANCH}"
   ]
  },
  {
   "cell_type": "markdown",
   "metadata": {},
   "source": [
    "#### Now the new release is in upstream repo"
   ]
  },
  {
   "cell_type": "markdown",
   "metadata": {},
   "source": [
    "### Some manual steps follow to improve the UX\n",
    "\n",
    "#### New relase on GitHub\n",
    "\n",
    "Copy the following changelog lines to the description in form on link below\n",
    "The release title is the new version."
   ]
  },
  {
   "cell_type": "code",
   "execution_count": null,
   "metadata": {},
   "outputs": [],
   "source": [
    "print('\\n')\n",
    "print('\\n'.join(change_log))\n",
    "print('\\n\\nhttps://github.com/theforeman/hammer-cli/releases/new?tag=%s' % NEW_VERSION)"
   ]
  },
  {
   "cell_type": "code",
   "execution_count": null,
   "metadata": {},
   "outputs": [],
   "source": [
    "from IPython.display import Markdown as md\n",
    "\n",
    "md('### Create new hammer-cli release in Redmine \\n' + \\\n",
    "    '<a href=\"https://projects.theforeman.org/projects/hammer-cli/versions/new\" target=\"_blank\">https://projects.theforeman.org/projects/hammer-cli/versions/new</a>\\n\\n' + \\\n",
    "    'Set name to hammer-cli-%s' % (NEXT_FUTURE_VERSION if MAJOR_RELEASE else NEW_VERSION))"
   ]
  },
  {
   "cell_type": "code",
   "execution_count": null,
   "metadata": {},
   "outputs": [],
   "source": [
    "if not MAJOR_RELEASE:\n",
    "    print('Set fixed in versions to %s in following issues:' % NEW_VERSION)\n",
    "    for i in referenced_issues:\n",
    "        print('- https://projects.theforeman.org/issues/%s' % i)"
   ]
  },
  {
   "cell_type": "markdown",
   "metadata": {},
   "source": [
    "## Congratulations\n",
    "\n",
    "Release is public now."
   ]
  }
 ],
 "metadata": {
  "kernelspec": {
   "display_name": "Python 3",
   "language": "python",
   "name": "python3"
  },
  "language_info": {
   "codemirror_mode": {
    "name": "ipython",
    "version": 3
   },
   "file_extension": ".py",
   "mimetype": "text/x-python",
   "name": "python",
   "nbconvert_exporter": "python",
   "pygments_lexer": "ipython3",
   "version": "3.7.5"
  }
 },
 "nbformat": 4,
 "nbformat_minor": 2
}
