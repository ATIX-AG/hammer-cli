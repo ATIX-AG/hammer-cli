{
 "cells": [
  {
   "cell_type": "markdown",
   "metadata": {},
   "source": [
    "# Release of hammer-cli gem\n",
    "\n",
    "## Requirements\n",
    "- push access to https://github.com/theforeman/hammer-cli\n",
    "- push access to rubygems.org for hammer-cli\n",
    "- sudo yum install transifex-client python-slugify asciidoc\n",
    "- ensure neither the `git push` or `gem push` don't require interractive auth. If you can't use api key or ssh key to auth skip these steps and run them form the shell manually \n",
    "- to push translations you need an account on Transifex\n",
    "\n",
    "## Release process\n",
    "- Follow the steps with `<Shift>+<Enter>` or `<Ctrl>+<Enter>,<Down>`\n",
    "- If anything fails, fix it and re-run the step if applicable\n",
    "\n",
    "## Release settings"
   ]
  },
  {
   "cell_type": "code",
   "execution_count": 1,
   "metadata": {},
   "outputs": [
    {
     "name": "stdout",
     "output_type": "stream",
     "text": [
      "/home/mshira/git/hammer-cli\n"
     ]
    }
   ],
   "source": [
    "%cd .."
   ]
  },
  {
   "cell_type": "markdown",
   "metadata": {},
   "source": [
    "### Update the following notebook settings"
   ]
  },
  {
   "cell_type": "code",
   "execution_count": 2,
   "metadata": {},
   "outputs": [],
   "source": [
    "NEW_VERSION = '2.3.0'\n",
    "LAST_VERSION = '2.2.1'\n",
    "DEVELOP_VERSION = '2.4.0-develop'\n",
    "NEXT_FUTURE_VERSION = '2.4.0'\n",
    "MAJOR_RELEASE = True\n",
    "STABLE_BRANCH = '2.3-stable'\n",
    "GIT_REMOTE_UPSTREAM = 'origin'\n",
    "WORK_BRANCH = 'master' if MAJOR_RELEASE else STABLE_BRANCH\n",
    "\n"
   ]
  },
  {
   "cell_type": "markdown",
   "metadata": {},
   "source": [
    "### Ensure the repo is up to date"
   ]
  },
  {
   "cell_type": "code",
   "execution_count": 3,
   "metadata": {},
   "outputs": [
    {
     "name": "stdout",
     "output_type": "stream",
     "text": [
      "Already on 'master'\r\n"
     ]
    }
   ],
   "source": [
    "! git checkout {WORK_BRANCH}"
   ]
  },
  {
   "cell_type": "code",
   "execution_count": 4,
   "metadata": {},
   "outputs": [
    {
     "name": "stdout",
     "output_type": "stream",
     "text": [
      "remote: Enumerating objects: 22, done.\u001b[K\n",
      "remote: Counting objects: 100% (22/22), done.\u001b[K\n",
      "remote: Compressing objects: 100% (8/8), done.\u001b[K\n",
      "remote: Total 22 (delta 15), reused 21 (delta 14), pack-reused 0\u001b[K\n",
      "Unpacking objects: 100% (22/22), 2.04 KiB | 77.00 KiB/s, done.\n",
      "From github.com:theforeman/hammer-cli\n",
      "   1f84f1b..f783bf6  2.1-stable -> origin/2.1-stable\n",
      "   1a38077..37007e1  2.2-stable -> origin/2.2-stable\n",
      " * [new tag]         2.1.2      -> 2.1.2\n",
      " * [new tag]         2.2.1      -> 2.2.1\n"
     ]
    }
   ],
   "source": [
    "! git fetch {GIT_REMOTE_UPSTREAM}"
   ]
  },
  {
   "cell_type": "code",
   "execution_count": 5,
   "metadata": {},
   "outputs": [
    {
     "name": "stdout",
     "output_type": "stream",
     "text": [
      "Current branch master is up to date.\r\n"
     ]
    }
   ],
   "source": [
    "! git rebase {GIT_REMOTE_UPSTREAM}/{WORK_BRANCH}"
   ]
  },
  {
   "cell_type": "markdown",
   "metadata": {},
   "source": [
    "### Run tests localy"
   ]
  },
  {
   "cell_type": "code",
   "execution_count": 6,
   "metadata": {},
   "outputs": [
    {
     "name": "stdout",
     "output_type": "stream",
     "text": [
      "Fetching gem metadata from https://rubygems.org/........\n",
      "Resolving dependencies...\n",
      "Using rake 10.1.1\n",
      "Using amazing_print 1.2.2\u001b[32m (was 1.2.1)\u001b[0m\n",
      "Using json 2.3.1\n",
      "Using oauth 0.5.4\n",
      "Using http-accept 1.7.0\n",
      "Using unf_ext 0.0.7.7\n",
      "Using unf 0.1.4\n",
      "Using domain_name 0.5.20190701\n",
      "Using http-cookie 1.0.3\n",
      "Using mime-types-data 3.2020.0512\n",
      "Using mime-types 3.3.1\n",
      "Using netrc 0.11.0\n",
      "Using rest-client 2.1.0\n",
      "Using apipie-bindings 0.4.0\n",
      "Using debug_inspector 0.0.3\n",
      "Using binding_of_caller 0.8.0\n",
      "Using builder 3.2.4\n",
      "Using bundler 1.17.3\n",
      "Using byebug 11.1.3\n",
      "Using ci_reporter 1.9.3\n",
      "Using clamp 1.1.2\n",
      "Using coderay 1.1.3\n",
      "Using docile 1.3.2\n",
      "Using fast_gettext 2.0.3\n",
      "Using locale 2.1.3\n",
      "Using text 1.3.1\n",
      "Using gettext 3.3.6\n",
      "Using highline 2.0.3\n",
      "Using little-plugger 1.1.4\n",
      "Using multi_json 1.15.0\n",
      "Using logging 2.3.0\n",
      "Using unicode 0.4.4.4\n",
      "Using unicode-display_width 1.7.0\n",
      "Using hammer_cli 2.3.0.pre.develop\u001b[32m (was 2.2.0)\u001b[0m from source at `.`\n",
      "Using method_source 1.0.0\n",
      "Using minitest 4.7.4\n",
      "Using minitest-spec-context 0.0.4\n",
      "Using mocha 1.11.2\n",
      "Using pry 0.13.1\n",
      "Using pry-byebug 3.9.0\n",
      "Using yard 0.9.25\n",
      "Using pry-doc 1.1.0\n",
      "Using pry-rails 0.3.9\n",
      "Using pry-stack_explorer 0.4.12\u001b[32m (was 0.4.11)\u001b[0m\n",
      "Using simplecov-html 0.12.3\u001b[32m (was 0.12.2)\u001b[0m\n",
      "Using simplecov 0.19.1\u001b[32m (was 0.18.5)\u001b[0m\n",
      "Using thor 1.0.1\n",
      "\u001b[32mBundle updated!\u001b[0m\n"
     ]
    }
   ],
   "source": [
    "! bundle update"
   ]
  },
  {
   "cell_type": "code",
   "execution_count": 8,
   "metadata": {},
   "outputs": [
    {
     "name": "stdout",
     "output_type": "stream",
     "text": [
      "/home/mshira/.rvm/rubies/ruby-2.5.5/lib/ruby/2.5.0/x86_64-linux/etc.so: warning: already initialized constant Etc::SC_AIO_LISTIO_MAX\r\n",
      "/home/mshira/.rvm/rubies/ruby-2.5.5/lib/ruby/2.5.0/x86_64-linux/etc.so: warning: already initialized constant Etc::SC_AIO_MAX\r\n",
      "/home/mshira/.rvm/rubies/ruby-2.5.5/lib/ruby/2.5.0/x86_64-linux/etc.so: warning: already initialized constant Etc::SC_AIO_PRIO_DELTA_MAX\r\n",
      "/home/mshira/.rvm/rubies/ruby-2.5.5/lib/ruby/2.5.0/x86_64-linux/etc.so: warning: already initialized constant Etc::SC_ARG_MAX\r\n",
      "/home/mshira/.rvm/rubies/ruby-2.5.5/lib/ruby/2.5.0/x86_64-linux/etc.so: warning: already initialized constant Etc::SC_ATEXIT_MAX\r\n",
      "/home/mshira/.rvm/rubies/ruby-2.5.5/lib/ruby/2.5.0/x86_64-linux/etc.so: warning: already initialized constant Etc::SC_BC_BASE_MAX\r\n",
      "/home/mshira/.rvm/rubies/ruby-2.5.5/lib/ruby/2.5.0/x86_64-linux/etc.so: warning: already initialized constant Etc::SC_BC_DIM_MAX\r\n",
      "/home/mshira/.rvm/rubies/ruby-2.5.5/lib/ruby/2.5.0/x86_64-linux/etc.so: warning: already initialized constant Etc::SC_BC_SCALE_MAX\r\n",
      "/home/mshira/.rvm/rubies/ruby-2.5.5/lib/ruby/2.5.0/x86_64-linux/etc.so: warning: already initialized constant Etc::SC_BC_STRING_MAX\r\n",
      "/home/mshira/.rvm/rubies/ruby-2.5.5/lib/ruby/2.5.0/x86_64-linux/etc.so: warning: already initialized constant Etc::SC_CHILD_MAX\r\n",
      "/home/mshira/.rvm/rubies/ruby-2.5.5/lib/ruby/2.5.0/x86_64-linux/etc.so: warning: already initialized constant Etc::SC_CLK_TCK\r\n",
      "/home/mshira/.rvm/rubies/ruby-2.5.5/lib/ruby/2.5.0/x86_64-linux/etc.so: warning: already initialized constant Etc::SC_COLL_WEIGHTS_MAX\r\n",
      "/home/mshira/.rvm/rubies/ruby-2.5.5/lib/ruby/2.5.0/x86_64-linux/etc.so: warning: already initialized constant Etc::SC_DELAYTIMER_MAX\r\n",
      "/home/mshira/.rvm/rubies/ruby-2.5.5/lib/ruby/2.5.0/x86_64-linux/etc.so: warning: already initialized constant Etc::SC_EXPR_NEST_MAX\r\n",
      "/home/mshira/.rvm/rubies/ruby-2.5.5/lib/ruby/2.5.0/x86_64-linux/etc.so: warning: already initialized constant Etc::SC_HOST_NAME_MAX\r\n",
      "/home/mshira/.rvm/rubies/ruby-2.5.5/lib/ruby/2.5.0/x86_64-linux/etc.so: warning: already initialized constant Etc::SC_IOV_MAX\r\n",
      "/home/mshira/.rvm/rubies/ruby-2.5.5/lib/ruby/2.5.0/x86_64-linux/etc.so: warning: already initialized constant Etc::SC_LINE_MAX\r\n",
      "/home/mshira/.rvm/rubies/ruby-2.5.5/lib/ruby/2.5.0/x86_64-linux/etc.so: warning: already initialized constant Etc::SC_LOGIN_NAME_MAX\r\n",
      "/home/mshira/.rvm/rubies/ruby-2.5.5/lib/ruby/2.5.0/x86_64-linux/etc.so: warning: already initialized constant Etc::SC_NGROUPS_MAX\r\n",
      "/home/mshira/.rvm/rubies/ruby-2.5.5/lib/ruby/2.5.0/x86_64-linux/etc.so: warning: already initialized constant Etc::SC_GETGR_R_SIZE_MAX\r\n",
      "/home/mshira/.rvm/rubies/ruby-2.5.5/lib/ruby/2.5.0/x86_64-linux/etc.so: warning: already initialized constant Etc::SC_GETPW_R_SIZE_MAX\r\n",
      "/home/mshira/.rvm/rubies/ruby-2.5.5/lib/ruby/2.5.0/x86_64-linux/etc.so: warning: already initialized constant Etc::SC_MQ_OPEN_MAX\r\n",
      "/home/mshira/.rvm/rubies/ruby-2.5.5/lib/ruby/2.5.0/x86_64-linux/etc.so: warning: already initialized constant Etc::SC_MQ_PRIO_MAX\r\n",
      "/home/mshira/.rvm/rubies/ruby-2.5.5/lib/ruby/2.5.0/x86_64-linux/etc.so: warning: already initialized constant Etc::SC_OPEN_MAX\r\n",
      "/home/mshira/.rvm/rubies/ruby-2.5.5/lib/ruby/2.5.0/x86_64-linux/etc.so: warning: already initialized constant Etc::SC_ADVISORY_INFO\r\n",
      "/home/mshira/.rvm/rubies/ruby-2.5.5/lib/ruby/2.5.0/x86_64-linux/etc.so: warning: already initialized constant Etc::SC_BARRIERS\r\n",
      "/home/mshira/.rvm/rubies/ruby-2.5.5/lib/ruby/2.5.0/x86_64-linux/etc.so: warning: already initialized constant Etc::SC_ASYNCHRONOUS_IO\r\n",
      "/home/mshira/.rvm/rubies/ruby-2.5.5/lib/ruby/2.5.0/x86_64-linux/etc.so: warning: already initialized constant Etc::SC_CLOCK_SELECTION\r\n",
      "/home/mshira/.rvm/rubies/ruby-2.5.5/lib/ruby/2.5.0/x86_64-linux/etc.so: warning: already initialized constant Etc::SC_CPUTIME\r\n",
      "/home/mshira/.rvm/rubies/ruby-2.5.5/lib/ruby/2.5.0/x86_64-linux/etc.so: warning: already initialized constant Etc::SC_FSYNC\r\n",
      "/home/mshira/.rvm/rubies/ruby-2.5.5/lib/ruby/2.5.0/x86_64-linux/etc.so: warning: already initialized constant Etc::SC_IPV6\r\n",
      "/home/mshira/.rvm/rubies/ruby-2.5.5/lib/ruby/2.5.0/x86_64-linux/etc.so: warning: already initialized constant Etc::SC_JOB_CONTROL\r\n",
      "/home/mshira/.rvm/rubies/ruby-2.5.5/lib/ruby/2.5.0/x86_64-linux/etc.so: warning: already initialized constant Etc::SC_MAPPED_FILES\r\n",
      "/home/mshira/.rvm/rubies/ruby-2.5.5/lib/ruby/2.5.0/x86_64-linux/etc.so: warning: already initialized constant Etc::SC_MEMLOCK\r\n",
      "/home/mshira/.rvm/rubies/ruby-2.5.5/lib/ruby/2.5.0/x86_64-linux/etc.so: warning: already initialized constant Etc::SC_MEMLOCK_RANGE\r\n",
      "/home/mshira/.rvm/rubies/ruby-2.5.5/lib/ruby/2.5.0/x86_64-linux/etc.so: warning: already initialized constant Etc::SC_MEMORY_PROTECTION\r\n",
      "/home/mshira/.rvm/rubies/ruby-2.5.5/lib/ruby/2.5.0/x86_64-linux/etc.so: warning: already initialized constant Etc::SC_MESSAGE_PASSING\r\n",
      "/home/mshira/.rvm/rubies/ruby-2.5.5/lib/ruby/2.5.0/x86_64-linux/etc.so: warning: already initialized constant Etc::SC_MONOTONIC_CLOCK\r\n",
      "/home/mshira/.rvm/rubies/ruby-2.5.5/lib/ruby/2.5.0/x86_64-linux/etc.so: warning: already initialized constant Etc::SC_PRIORITIZED_IO\r\n",
      "/home/mshira/.rvm/rubies/ruby-2.5.5/lib/ruby/2.5.0/x86_64-linux/etc.so: warning: already initialized constant Etc::SC_PRIORITY_SCHEDULING\r\n",
      "/home/mshira/.rvm/rubies/ruby-2.5.5/lib/ruby/2.5.0/x86_64-linux/etc.so: warning: already initialized constant Etc::SC_RAW_SOCKETS\r\n",
      "/home/mshira/.rvm/rubies/ruby-2.5.5/lib/ruby/2.5.0/x86_64-linux/etc.so: warning: already initialized constant Etc::SC_READER_WRITER_LOCKS\r\n",
      "/home/mshira/.rvm/rubies/ruby-2.5.5/lib/ruby/2.5.0/x86_64-linux/etc.so: warning: already initialized constant Etc::SC_REALTIME_SIGNALS\r\n",
      "/home/mshira/.rvm/rubies/ruby-2.5.5/lib/ruby/2.5.0/x86_64-linux/etc.so: warning: already initialized constant Etc::SC_REGEXP\r\n",
      "/home/mshira/.rvm/rubies/ruby-2.5.5/lib/ruby/2.5.0/x86_64-linux/etc.so: warning: already initialized constant Etc::SC_SAVED_IDS\r\n",
      "/home/mshira/.rvm/rubies/ruby-2.5.5/lib/ruby/2.5.0/x86_64-linux/etc.so: warning: already initialized constant Etc::SC_SEMAPHORES\r\n",
      "/home/mshira/.rvm/rubies/ruby-2.5.5/lib/ruby/2.5.0/x86_64-linux/etc.so: warning: already initialized constant Etc::SC_SHARED_MEMORY_OBJECTS\r\n",
      "/home/mshira/.rvm/rubies/ruby-2.5.5/lib/ruby/2.5.0/x86_64-linux/etc.so: warning: already initialized constant Etc::SC_SHELL\r\n",
      "/home/mshira/.rvm/rubies/ruby-2.5.5/lib/ruby/2.5.0/x86_64-linux/etc.so: warning: already initialized constant Etc::SC_SPAWN\r\n",
      "/home/mshira/.rvm/rubies/ruby-2.5.5/lib/ruby/2.5.0/x86_64-linux/etc.so: warning: already initialized constant Etc::SC_SPIN_LOCKS\r\n",
      "/home/mshira/.rvm/rubies/ruby-2.5.5/lib/ruby/2.5.0/x86_64-linux/etc.so: warning: already initialized constant Etc::SC_SPORADIC_SERVER\r\n",
      "/home/mshira/.rvm/rubies/ruby-2.5.5/lib/ruby/2.5.0/x86_64-linux/etc.so: warning: already initialized constant Etc::SC_SS_REPL_MAX\r\n",
      "/home/mshira/.rvm/rubies/ruby-2.5.5/lib/ruby/2.5.0/x86_64-linux/etc.so: warning: already initialized constant Etc::SC_SYNCHRONIZED_IO\r\n",
      "/home/mshira/.rvm/rubies/ruby-2.5.5/lib/ruby/2.5.0/x86_64-linux/etc.so: warning: already initialized constant Etc::SC_THREAD_ATTR_STACKADDR\r\n",
      "/home/mshira/.rvm/rubies/ruby-2.5.5/lib/ruby/2.5.0/x86_64-linux/etc.so: warning: already initialized constant Etc::SC_THREAD_ATTR_STACKSIZE\r\n",
      "/home/mshira/.rvm/rubies/ruby-2.5.5/lib/ruby/2.5.0/x86_64-linux/etc.so: warning: already initialized constant Etc::SC_THREAD_CPUTIME\r\n",
      "/home/mshira/.rvm/rubies/ruby-2.5.5/lib/ruby/2.5.0/x86_64-linux/etc.so: warning: already initialized constant Etc::SC_THREAD_PRIO_INHERIT\r\n",
      "/home/mshira/.rvm/rubies/ruby-2.5.5/lib/ruby/2.5.0/x86_64-linux/etc.so: warning: already initialized constant Etc::SC_THREAD_PRIO_PROTECT\r\n",
      "/home/mshira/.rvm/rubies/ruby-2.5.5/lib/ruby/2.5.0/x86_64-linux/etc.so: warning: already initialized constant Etc::SC_THREAD_PRIORITY_SCHEDULING\r\n",
      "/home/mshira/.rvm/rubies/ruby-2.5.5/lib/ruby/2.5.0/x86_64-linux/etc.so: warning: already initialized constant Etc::SC_THREAD_PROCESS_SHARED\r\n",
      "/home/mshira/.rvm/rubies/ruby-2.5.5/lib/ruby/2.5.0/x86_64-linux/etc.so: warning: already initialized constant Etc::SC_THREAD_ROBUST_PRIO_INHERIT\r\n",
      "/home/mshira/.rvm/rubies/ruby-2.5.5/lib/ruby/2.5.0/x86_64-linux/etc.so: warning: already initialized constant Etc::SC_THREAD_ROBUST_PRIO_PROTECT\r\n",
      "/home/mshira/.rvm/rubies/ruby-2.5.5/lib/ruby/2.5.0/x86_64-linux/etc.so: warning: already initialized constant Etc::SC_THREAD_SAFE_FUNCTIONS\r\n",
      "/home/mshira/.rvm/rubies/ruby-2.5.5/lib/ruby/2.5.0/x86_64-linux/etc.so: warning: already initialized constant Etc::SC_THREAD_SPORADIC_SERVER\r\n",
      "/home/mshira/.rvm/rubies/ruby-2.5.5/lib/ruby/2.5.0/x86_64-linux/etc.so: warning: already initialized constant Etc::SC_THREADS\r\n",
      "/home/mshira/.rvm/rubies/ruby-2.5.5/lib/ruby/2.5.0/x86_64-linux/etc.so: warning: already initialized constant Etc::SC_TIMEOUTS\r\n",
      "/home/mshira/.rvm/rubies/ruby-2.5.5/lib/ruby/2.5.0/x86_64-linux/etc.so: warning: already initialized constant Etc::SC_TIMERS\r\n",
      "/home/mshira/.rvm/rubies/ruby-2.5.5/lib/ruby/2.5.0/x86_64-linux/etc.so: warning: already initialized constant Etc::SC_TRACE\r\n",
      "/home/mshira/.rvm/rubies/ruby-2.5.5/lib/ruby/2.5.0/x86_64-linux/etc.so: warning: already initialized constant Etc::SC_TRACE_EVENT_FILTER\r\n",
      "/home/mshira/.rvm/rubies/ruby-2.5.5/lib/ruby/2.5.0/x86_64-linux/etc.so: warning: already initialized constant Etc::SC_TRACE_EVENT_NAME_MAX\r\n",
      "/home/mshira/.rvm/rubies/ruby-2.5.5/lib/ruby/2.5.0/x86_64-linux/etc.so: warning: already initialized constant Etc::SC_TRACE_INHERIT\r\n",
      "/home/mshira/.rvm/rubies/ruby-2.5.5/lib/ruby/2.5.0/x86_64-linux/etc.so: warning: already initialized constant Etc::SC_TRACE_LOG\r\n",
      "/home/mshira/.rvm/rubies/ruby-2.5.5/lib/ruby/2.5.0/x86_64-linux/etc.so: warning: already initialized constant Etc::SC_TRACE_NAME_MAX\r\n",
      "/home/mshira/.rvm/rubies/ruby-2.5.5/lib/ruby/2.5.0/x86_64-linux/etc.so: warning: already initialized constant Etc::SC_TRACE_SYS_MAX\r\n",
      "/home/mshira/.rvm/rubies/ruby-2.5.5/lib/ruby/2.5.0/x86_64-linux/etc.so: warning: already initialized constant Etc::SC_TRACE_USER_EVENT_MAX\r\n",
      "/home/mshira/.rvm/rubies/ruby-2.5.5/lib/ruby/2.5.0/x86_64-linux/etc.so: warning: already initialized constant Etc::SC_TYPED_MEMORY_OBJECTS\r\n",
      "/home/mshira/.rvm/rubies/ruby-2.5.5/lib/ruby/2.5.0/x86_64-linux/etc.so: warning: already initialized constant Etc::SC_VERSION\r\n",
      "/home/mshira/.rvm/rubies/ruby-2.5.5/lib/ruby/2.5.0/x86_64-linux/etc.so: warning: already initialized constant Etc::SC_V7_ILP32_OFF32\r\n",
      "/home/mshira/.rvm/rubies/ruby-2.5.5/lib/ruby/2.5.0/x86_64-linux/etc.so: warning: already initialized constant Etc::SC_V7_ILP32_OFFBIG\r\n",
      "/home/mshira/.rvm/rubies/ruby-2.5.5/lib/ruby/2.5.0/x86_64-linux/etc.so: warning: already initialized constant Etc::SC_V7_LP64_OFF64\r\n",
      "/home/mshira/.rvm/rubies/ruby-2.5.5/lib/ruby/2.5.0/x86_64-linux/etc.so: warning: already initialized constant Etc::SC_V7_LPBIG_OFFBIG\r\n",
      "/home/mshira/.rvm/rubies/ruby-2.5.5/lib/ruby/2.5.0/x86_64-linux/etc.so: warning: already initialized constant Etc::SC_V6_ILP32_OFF32\r\n",
      "/home/mshira/.rvm/rubies/ruby-2.5.5/lib/ruby/2.5.0/x86_64-linux/etc.so: warning: already initialized constant Etc::SC_V6_ILP32_OFFBIG\r\n",
      "/home/mshira/.rvm/rubies/ruby-2.5.5/lib/ruby/2.5.0/x86_64-linux/etc.so: warning: already initialized constant Etc::SC_V6_LP64_OFF64\r\n",
      "/home/mshira/.rvm/rubies/ruby-2.5.5/lib/ruby/2.5.0/x86_64-linux/etc.so: warning: already initialized constant Etc::SC_V6_LPBIG_OFFBIG\r\n",
      "/home/mshira/.rvm/rubies/ruby-2.5.5/lib/ruby/2.5.0/x86_64-linux/etc.so: warning: already initialized constant Etc::SC_2_C_BIND\r\n",
      "/home/mshira/.rvm/rubies/ruby-2.5.5/lib/ruby/2.5.0/x86_64-linux/etc.so: warning: already initialized constant Etc::SC_2_C_DEV\r\n",
      "/home/mshira/.rvm/rubies/ruby-2.5.5/lib/ruby/2.5.0/x86_64-linux/etc.so: warning: already initialized constant Etc::SC_2_CHAR_TERM\r\n",
      "/home/mshira/.rvm/rubies/ruby-2.5.5/lib/ruby/2.5.0/x86_64-linux/etc.so: warning: already initialized constant Etc::SC_2_FORT_DEV\r\n",
      "/home/mshira/.rvm/rubies/ruby-2.5.5/lib/ruby/2.5.0/x86_64-linux/etc.so: warning: already initialized constant Etc::SC_2_FORT_RUN\r\n",
      "/home/mshira/.rvm/rubies/ruby-2.5.5/lib/ruby/2.5.0/x86_64-linux/etc.so: warning: already initialized constant Etc::SC_2_LOCALEDEF\r\n",
      "/home/mshira/.rvm/rubies/ruby-2.5.5/lib/ruby/2.5.0/x86_64-linux/etc.so: warning: already initialized constant Etc::SC_2_PBS\r\n",
      "/home/mshira/.rvm/rubies/ruby-2.5.5/lib/ruby/2.5.0/x86_64-linux/etc.so: warning: already initialized constant Etc::SC_2_PBS_ACCOUNTING\r\n",
      "/home/mshira/.rvm/rubies/ruby-2.5.5/lib/ruby/2.5.0/x86_64-linux/etc.so: warning: already initialized constant Etc::SC_2_PBS_CHECKPOINT\r\n",
      "/home/mshira/.rvm/rubies/ruby-2.5.5/lib/ruby/2.5.0/x86_64-linux/etc.so: warning: already initialized constant Etc::SC_2_PBS_LOCATE\r\n",
      "/home/mshira/.rvm/rubies/ruby-2.5.5/lib/ruby/2.5.0/x86_64-linux/etc.so: warning: already initialized constant Etc::SC_2_PBS_MESSAGE\r\n",
      "/home/mshira/.rvm/rubies/ruby-2.5.5/lib/ruby/2.5.0/x86_64-linux/etc.so: warning: already initialized constant Etc::SC_2_PBS_TRACK\r\n",
      "/home/mshira/.rvm/rubies/ruby-2.5.5/lib/ruby/2.5.0/x86_64-linux/etc.so: warning: already initialized constant Etc::SC_2_SW_DEV\r\n",
      "/home/mshira/.rvm/rubies/ruby-2.5.5/lib/ruby/2.5.0/x86_64-linux/etc.so: warning: already initialized constant Etc::SC_2_UPE\r\n",
      "/home/mshira/.rvm/rubies/ruby-2.5.5/lib/ruby/2.5.0/x86_64-linux/etc.so: warning: already initialized constant Etc::SC_2_VERSION\r\n",
      "/home/mshira/.rvm/rubies/ruby-2.5.5/lib/ruby/2.5.0/x86_64-linux/etc.so: warning: already initialized constant Etc::SC_PAGE_SIZE\r\n",
      "/home/mshira/.rvm/rubies/ruby-2.5.5/lib/ruby/2.5.0/x86_64-linux/etc.so: warning: already initialized constant Etc::SC_PAGESIZE\r\n",
      "/home/mshira/.rvm/rubies/ruby-2.5.5/lib/ruby/2.5.0/x86_64-linux/etc.so: warning: already initialized constant Etc::SC_THREAD_DESTRUCTOR_ITERATIONS\r\n",
      "/home/mshira/.rvm/rubies/ruby-2.5.5/lib/ruby/2.5.0/x86_64-linux/etc.so: warning: already initialized constant Etc::SC_THREAD_KEYS_MAX\r\n",
      "/home/mshira/.rvm/rubies/ruby-2.5.5/lib/ruby/2.5.0/x86_64-linux/etc.so: warning: already initialized constant Etc::SC_THREAD_STACK_MIN\r\n",
      "/home/mshira/.rvm/rubies/ruby-2.5.5/lib/ruby/2.5.0/x86_64-linux/etc.so: warning: already initialized constant Etc::SC_THREAD_THREADS_MAX\r\n",
      "/home/mshira/.rvm/rubies/ruby-2.5.5/lib/ruby/2.5.0/x86_64-linux/etc.so: warning: already initialized constant Etc::SC_RE_DUP_MAX\r\n",
      "/home/mshira/.rvm/rubies/ruby-2.5.5/lib/ruby/2.5.0/x86_64-linux/etc.so: warning: already initialized constant Etc::SC_RTSIG_MAX\r\n",
      "/home/mshira/.rvm/rubies/ruby-2.5.5/lib/ruby/2.5.0/x86_64-linux/etc.so: warning: already initialized constant Etc::SC_SEM_NSEMS_MAX\r\n",
      "/home/mshira/.rvm/rubies/ruby-2.5.5/lib/ruby/2.5.0/x86_64-linux/etc.so: warning: already initialized constant Etc::SC_SEM_VALUE_MAX\r\n",
      "/home/mshira/.rvm/rubies/ruby-2.5.5/lib/ruby/2.5.0/x86_64-linux/etc.so: warning: already initialized constant Etc::SC_SIGQUEUE_MAX\r\n",
      "/home/mshira/.rvm/rubies/ruby-2.5.5/lib/ruby/2.5.0/x86_64-linux/etc.so: warning: already initialized constant Etc::SC_STREAM_MAX\r\n",
      "/home/mshira/.rvm/rubies/ruby-2.5.5/lib/ruby/2.5.0/x86_64-linux/etc.so: warning: already initialized constant Etc::SC_SYMLOOP_MAX\r\n",
      "/home/mshira/.rvm/rubies/ruby-2.5.5/lib/ruby/2.5.0/x86_64-linux/etc.so: warning: already initialized constant Etc::SC_TIMER_MAX\r\n",
      "/home/mshira/.rvm/rubies/ruby-2.5.5/lib/ruby/2.5.0/x86_64-linux/etc.so: warning: already initialized constant Etc::SC_TTY_NAME_MAX\r\n",
      "/home/mshira/.rvm/rubies/ruby-2.5.5/lib/ruby/2.5.0/x86_64-linux/etc.so: warning: already initialized constant Etc::SC_TZNAME_MAX\r\n",
      "/home/mshira/.rvm/rubies/ruby-2.5.5/lib/ruby/2.5.0/x86_64-linux/etc.so: warning: already initialized constant Etc::SC_XOPEN_CRYPT\r\n",
      "/home/mshira/.rvm/rubies/ruby-2.5.5/lib/ruby/2.5.0/x86_64-linux/etc.so: warning: already initialized constant Etc::SC_XOPEN_ENH_I18N\r\n",
      "/home/mshira/.rvm/rubies/ruby-2.5.5/lib/ruby/2.5.0/x86_64-linux/etc.so: warning: already initialized constant Etc::SC_XOPEN_REALTIME\r\n",
      "/home/mshira/.rvm/rubies/ruby-2.5.5/lib/ruby/2.5.0/x86_64-linux/etc.so: warning: already initialized constant Etc::SC_XOPEN_REALTIME_THREADS\r\n",
      "/home/mshira/.rvm/rubies/ruby-2.5.5/lib/ruby/2.5.0/x86_64-linux/etc.so: warning: already initialized constant Etc::SC_XOPEN_SHM\r\n",
      "/home/mshira/.rvm/rubies/ruby-2.5.5/lib/ruby/2.5.0/x86_64-linux/etc.so: warning: already initialized constant Etc::SC_XOPEN_STREAMS\r\n",
      "/home/mshira/.rvm/rubies/ruby-2.5.5/lib/ruby/2.5.0/x86_64-linux/etc.so: warning: already initialized constant Etc::SC_XOPEN_UNIX\r\n",
      "/home/mshira/.rvm/rubies/ruby-2.5.5/lib/ruby/2.5.0/x86_64-linux/etc.so: warning: already initialized constant Etc::SC_XOPEN_VERSION\r\n",
      "/home/mshira/.rvm/rubies/ruby-2.5.5/lib/ruby/2.5.0/x86_64-linux/etc.so: warning: already initialized constant Etc::SC_PHYS_PAGES\r\n",
      "/home/mshira/.rvm/rubies/ruby-2.5.5/lib/ruby/2.5.0/x86_64-linux/etc.so: warning: already initialized constant Etc::SC_AVPHYS_PAGES\r\n",
      "/home/mshira/.rvm/rubies/ruby-2.5.5/lib/ruby/2.5.0/x86_64-linux/etc.so: warning: already initialized constant Etc::SC_NPROCESSORS_CONF\r\n",
      "/home/mshira/.rvm/rubies/ruby-2.5.5/lib/ruby/2.5.0/x86_64-linux/etc.so: warning: already initialized constant Etc::SC_NPROCESSORS_ONLN\r\n",
      "/home/mshira/.rvm/rubies/ruby-2.5.5/lib/ruby/2.5.0/x86_64-linux/etc.so: warning: already initialized constant Etc::CS_PATH\r\n",
      "/home/mshira/.rvm/rubies/ruby-2.5.5/lib/ruby/2.5.0/x86_64-linux/etc.so: warning: already initialized constant Etc::CS_POSIX_V7_ILP32_OFF32_CFLAGS\r\n",
      "/home/mshira/.rvm/rubies/ruby-2.5.5/lib/ruby/2.5.0/x86_64-linux/etc.so: warning: already initialized constant Etc::CS_POSIX_V7_ILP32_OFF32_LDFLAGS\r\n",
      "/home/mshira/.rvm/rubies/ruby-2.5.5/lib/ruby/2.5.0/x86_64-linux/etc.so: warning: already initialized constant Etc::CS_POSIX_V7_ILP32_OFF32_LIBS\r\n",
      "/home/mshira/.rvm/rubies/ruby-2.5.5/lib/ruby/2.5.0/x86_64-linux/etc.so: warning: already initialized constant Etc::CS_POSIX_V7_ILP32_OFFBIG_CFLAGS\r\n",
      "/home/mshira/.rvm/rubies/ruby-2.5.5/lib/ruby/2.5.0/x86_64-linux/etc.so: warning: already initialized constant Etc::CS_POSIX_V7_ILP32_OFFBIG_LDFLAGS\r\n",
      "/home/mshira/.rvm/rubies/ruby-2.5.5/lib/ruby/2.5.0/x86_64-linux/etc.so: warning: already initialized constant Etc::CS_POSIX_V7_ILP32_OFFBIG_LIBS\r\n",
      "/home/mshira/.rvm/rubies/ruby-2.5.5/lib/ruby/2.5.0/x86_64-linux/etc.so: warning: already initialized constant Etc::CS_POSIX_V7_LP64_OFF64_CFLAGS\r\n",
      "/home/mshira/.rvm/rubies/ruby-2.5.5/lib/ruby/2.5.0/x86_64-linux/etc.so: warning: already initialized constant Etc::CS_POSIX_V7_LP64_OFF64_LDFLAGS\r\n",
      "/home/mshira/.rvm/rubies/ruby-2.5.5/lib/ruby/2.5.0/x86_64-linux/etc.so: warning: already initialized constant Etc::CS_POSIX_V7_LP64_OFF64_LIBS\r\n",
      "/home/mshira/.rvm/rubies/ruby-2.5.5/lib/ruby/2.5.0/x86_64-linux/etc.so: warning: already initialized constant Etc::CS_POSIX_V7_LPBIG_OFFBIG_CFLAGS\r\n",
      "/home/mshira/.rvm/rubies/ruby-2.5.5/lib/ruby/2.5.0/x86_64-linux/etc.so: warning: already initialized constant Etc::CS_POSIX_V7_LPBIG_OFFBIG_LDFLAGS\r\n",
      "/home/mshira/.rvm/rubies/ruby-2.5.5/lib/ruby/2.5.0/x86_64-linux/etc.so: warning: already initialized constant Etc::CS_POSIX_V7_LPBIG_OFFBIG_LIBS\r\n",
      "/home/mshira/.rvm/rubies/ruby-2.5.5/lib/ruby/2.5.0/x86_64-linux/etc.so: warning: already initialized constant Etc::CS_POSIX_V7_WIDTH_RESTRICTED_ENVS\r\n",
      "/home/mshira/.rvm/rubies/ruby-2.5.5/lib/ruby/2.5.0/x86_64-linux/etc.so: warning: already initialized constant Etc::CS_V7_ENV\r\n",
      "/home/mshira/.rvm/rubies/ruby-2.5.5/lib/ruby/2.5.0/x86_64-linux/etc.so: warning: already initialized constant Etc::CS_POSIX_V6_ILP32_OFF32_CFLAGS\r\n",
      "/home/mshira/.rvm/rubies/ruby-2.5.5/lib/ruby/2.5.0/x86_64-linux/etc.so: warning: already initialized constant Etc::CS_POSIX_V6_ILP32_OFF32_LDFLAGS\r\n",
      "/home/mshira/.rvm/rubies/ruby-2.5.5/lib/ruby/2.5.0/x86_64-linux/etc.so: warning: already initialized constant Etc::CS_POSIX_V6_ILP32_OFF32_LIBS\r\n",
      "/home/mshira/.rvm/rubies/ruby-2.5.5/lib/ruby/2.5.0/x86_64-linux/etc.so: warning: already initialized constant Etc::CS_POSIX_V6_ILP32_OFFBIG_CFLAGS\r\n",
      "/home/mshira/.rvm/rubies/ruby-2.5.5/lib/ruby/2.5.0/x86_64-linux/etc.so: warning: already initialized constant Etc::CS_POSIX_V6_ILP32_OFFBIG_LDFLAGS\r\n",
      "/home/mshira/.rvm/rubies/ruby-2.5.5/lib/ruby/2.5.0/x86_64-linux/etc.so: warning: already initialized constant Etc::CS_POSIX_V6_ILP32_OFFBIG_LIBS\r\n",
      "/home/mshira/.rvm/rubies/ruby-2.5.5/lib/ruby/2.5.0/x86_64-linux/etc.so: warning: already initialized constant Etc::CS_POSIX_V6_LP64_OFF64_CFLAGS\r\n",
      "/home/mshira/.rvm/rubies/ruby-2.5.5/lib/ruby/2.5.0/x86_64-linux/etc.so: warning: already initialized constant Etc::CS_POSIX_V6_LP64_OFF64_LDFLAGS\r\n",
      "/home/mshira/.rvm/rubies/ruby-2.5.5/lib/ruby/2.5.0/x86_64-linux/etc.so: warning: already initialized constant Etc::CS_POSIX_V6_LP64_OFF64_LIBS\r\n",
      "/home/mshira/.rvm/rubies/ruby-2.5.5/lib/ruby/2.5.0/x86_64-linux/etc.so: warning: already initialized constant Etc::CS_POSIX_V6_LPBIG_OFFBIG_CFLAGS\r\n",
      "/home/mshira/.rvm/rubies/ruby-2.5.5/lib/ruby/2.5.0/x86_64-linux/etc.so: warning: already initialized constant Etc::CS_POSIX_V6_LPBIG_OFFBIG_LDFLAGS\r\n",
      "/home/mshira/.rvm/rubies/ruby-2.5.5/lib/ruby/2.5.0/x86_64-linux/etc.so: warning: already initialized constant Etc::CS_POSIX_V6_LPBIG_OFFBIG_LIBS\r\n",
      "/home/mshira/.rvm/rubies/ruby-2.5.5/lib/ruby/2.5.0/x86_64-linux/etc.so: warning: already initialized constant Etc::CS_POSIX_V6_WIDTH_RESTRICTED_ENVS\r\n",
      "/home/mshira/.rvm/rubies/ruby-2.5.5/lib/ruby/2.5.0/x86_64-linux/etc.so: warning: already initialized constant Etc::CS_V6_ENV\r\n",
      "/home/mshira/.rvm/rubies/ruby-2.5.5/lib/ruby/2.5.0/x86_64-linux/etc.so: warning: already initialized constant Etc::CS_GNU_LIBC_VERSION\r\n",
      "/home/mshira/.rvm/rubies/ruby-2.5.5/lib/ruby/2.5.0/x86_64-linux/etc.so: warning: already initialized constant Etc::CS_GNU_LIBPTHREAD_VERSION\r\n",
      "/home/mshira/.rvm/rubies/ruby-2.5.5/lib/ruby/2.5.0/x86_64-linux/etc.so: warning: already initialized constant Etc::PC_FILESIZEBITS\r\n",
      "/home/mshira/.rvm/rubies/ruby-2.5.5/lib/ruby/2.5.0/x86_64-linux/etc.so: warning: already initialized constant Etc::PC_LINK_MAX\r\n",
      "/home/mshira/.rvm/rubies/ruby-2.5.5/lib/ruby/2.5.0/x86_64-linux/etc.so: warning: already initialized constant Etc::PC_MAX_CANON\r\n",
      "/home/mshira/.rvm/rubies/ruby-2.5.5/lib/ruby/2.5.0/x86_64-linux/etc.so: warning: already initialized constant Etc::PC_MAX_INPUT\r\n",
      "/home/mshira/.rvm/rubies/ruby-2.5.5/lib/ruby/2.5.0/x86_64-linux/etc.so: warning: already initialized constant Etc::PC_NAME_MAX\r\n",
      "/home/mshira/.rvm/rubies/ruby-2.5.5/lib/ruby/2.5.0/x86_64-linux/etc.so: warning: already initialized constant Etc::PC_PATH_MAX\r\n",
      "/home/mshira/.rvm/rubies/ruby-2.5.5/lib/ruby/2.5.0/x86_64-linux/etc.so: warning: already initialized constant Etc::PC_PIPE_BUF\r\n",
      "/home/mshira/.rvm/rubies/ruby-2.5.5/lib/ruby/2.5.0/x86_64-linux/etc.so: warning: already initialized constant Etc::PC_2_SYMLINKS\r\n",
      "/home/mshira/.rvm/rubies/ruby-2.5.5/lib/ruby/2.5.0/x86_64-linux/etc.so: warning: already initialized constant Etc::PC_ALLOC_SIZE_MIN\r\n",
      "/home/mshira/.rvm/rubies/ruby-2.5.5/lib/ruby/2.5.0/x86_64-linux/etc.so: warning: already initialized constant Etc::PC_REC_INCR_XFER_SIZE\r\n",
      "/home/mshira/.rvm/rubies/ruby-2.5.5/lib/ruby/2.5.0/x86_64-linux/etc.so: warning: already initialized constant Etc::PC_REC_MAX_XFER_SIZE\r\n",
      "/home/mshira/.rvm/rubies/ruby-2.5.5/lib/ruby/2.5.0/x86_64-linux/etc.so: warning: already initialized constant Etc::PC_REC_MIN_XFER_SIZE\r\n",
      "/home/mshira/.rvm/rubies/ruby-2.5.5/lib/ruby/2.5.0/x86_64-linux/etc.so: warning: already initialized constant Etc::PC_REC_XFER_ALIGN\r\n",
      "/home/mshira/.rvm/rubies/ruby-2.5.5/lib/ruby/2.5.0/x86_64-linux/etc.so: warning: already initialized constant Etc::PC_SYMLINK_MAX\r\n",
      "/home/mshira/.rvm/rubies/ruby-2.5.5/lib/ruby/2.5.0/x86_64-linux/etc.so: warning: already initialized constant Etc::PC_CHOWN_RESTRICTED\r\n",
      "/home/mshira/.rvm/rubies/ruby-2.5.5/lib/ruby/2.5.0/x86_64-linux/etc.so: warning: already initialized constant Etc::PC_NO_TRUNC\r\n",
      "/home/mshira/.rvm/rubies/ruby-2.5.5/lib/ruby/2.5.0/x86_64-linux/etc.so: warning: already initialized constant Etc::PC_VDISABLE\r\n",
      "/home/mshira/.rvm/rubies/ruby-2.5.5/lib/ruby/2.5.0/x86_64-linux/etc.so: warning: already initialized constant Etc::PC_ASYNC_IO\r\n",
      "/home/mshira/.rvm/rubies/ruby-2.5.5/lib/ruby/2.5.0/x86_64-linux/etc.so: warning: already initialized constant Etc::PC_PRIO_IO\r\n",
      "/home/mshira/.rvm/rubies/ruby-2.5.5/lib/ruby/2.5.0/x86_64-linux/etc.so: warning: already initialized constant Etc::PC_SYNC_IO\r\n",
      "/home/mshira/.rvm/rubies/ruby-2.5.5/lib/ruby/2.5.0/x86_64-linux/etc.so: warning: already initialized constant Struct::Passwd\r\n",
      "/home/mshira/.rvm/rubies/ruby-2.5.5/lib/ruby/2.5.0/x86_64-linux/etc.so: warning: already initialized constant Struct::Group\r\n"
     ]
    },
    {
     "name": "stdout",
     "output_type": "stream",
     "text": [
      "/home/mshira/.rvm/rubies/ruby-2.5.5/bin/ruby -I\"lib:lib\" -I\"/home/mshira/.rvm/gems/ruby-2.5.5/gems/rake-10.1.1/lib\" \"/home/mshira/.rvm/gems/ruby-2.5.5/gems/rake-10.1.1/lib/rake/rake_test_loader.rb\" \"test/unit/messages_test.rb\" \"test/unit/exception_handler_test.rb\" \"test/unit/modules_test.rb\" \"test/unit/connection_test.rb\" \"test/unit/completer_test.rb\" \"test/unit/csv_parser_test.rb\" \"test/unit/option_builder_test.rb\" \"test/unit/utils_test.rb\" \"test/unit/apipie/command_test.rb\" \"test/unit/apipie/option_builder_test.rb\" \"test/unit/apipie/api_connection_test.rb\" \"test/unit/apipie/option_definition_test.rb\" \"test/unit/command_extensions_test.rb\" \"test/unit/main_test.rb\" \"test/unit/options/processor_list_test.rb\" \"test/unit/options/option_family_test.rb\" \"test/unit/options/validators/dsl_test.rb\" \"test/unit/options/sources/command_line_test.rb\" \"test/unit/options/sources/saved_defaults_test.rb\" \"test/unit/options/matcher_test.rb\" \"test/unit/options/option_collector_test.rb\" \"test/unit/options/normalizers_test.rb\" \"test/unit/options/option_definition_test.rb\" \"test/unit/settings_test.rb\" \"test/unit/history_test.rb\" \"test/unit/defaults_test.rb\" \"test/unit/logger_test.rb\" \"test/unit/output/formatters_test.rb\" \"test/unit/output/record_collection_test.rb\" \"test/unit/output/dsl_test.rb\" \"test/unit/output/definition_test.rb\" \"test/unit/output/output_test.rb\" \"test/unit/output/field_filter_test.rb\" \"test/unit/output/fields_test.rb\" \"test/unit/output/adapter/table_test.rb\" \"test/unit/output/adapter/json_test.rb\" \"test/unit/output/adapter/abstract_test.rb\" \"test/unit/output/adapter/yaml_test.rb\" \"test/unit/output/adapter/csv_test.rb\" \"test/unit/output/adapter/base_test.rb\" \"test/unit/abstract_test.rb\" \"test/unit/i18n_test.rb\" \"test/unit/bash_test.rb\" \"test/unit/help/definition/section_test.rb\" \"test/unit/help/definition/list_test.rb\" \"test/unit/help/definition/text_test.rb\" \"test/unit/help/definition/abstract_item_test.rb\" \"test/unit/help/definition/note_test.rb\" \"test/unit/help/definition_test.rb\" \"test/unit/help/builder_test.rb\" \"test/unit/help/text_builder_test.rb\" \"test/unit/ca_cert_manager_test.rb\" \"test/functional/help_test.rb\" \"test/functional/nil_values_test.rb\" \"test/functional/defaults_test.rb\" \n",
      "/home/mshira/.rvm/rubies/ruby-2.5.5/lib/ruby/2.5.0/x86_64-linux/etc.so: warning: already initialized constant Etc::SC_AIO_LISTIO_MAX\n",
      "/home/mshira/.rvm/rubies/ruby-2.5.5/lib/ruby/2.5.0/x86_64-linux/etc.so: warning: already initialized constant Etc::SC_AIO_MAX\n",
      "/home/mshira/.rvm/rubies/ruby-2.5.5/lib/ruby/2.5.0/x86_64-linux/etc.so: warning: already initialized constant Etc::SC_AIO_PRIO_DELTA_MAX\n",
      "/home/mshira/.rvm/rubies/ruby-2.5.5/lib/ruby/2.5.0/x86_64-linux/etc.so: warning: already initialized constant Etc::SC_ARG_MAX\n",
      "/home/mshira/.rvm/rubies/ruby-2.5.5/lib/ruby/2.5.0/x86_64-linux/etc.so: warning: already initialized constant Etc::SC_ATEXIT_MAX\n",
      "/home/mshira/.rvm/rubies/ruby-2.5.5/lib/ruby/2.5.0/x86_64-linux/etc.so: warning: already initialized constant Etc::SC_BC_BASE_MAX\n",
      "/home/mshira/.rvm/rubies/ruby-2.5.5/lib/ruby/2.5.0/x86_64-linux/etc.so: warning: already initialized constant Etc::SC_BC_DIM_MAX\n",
      "/home/mshira/.rvm/rubies/ruby-2.5.5/lib/ruby/2.5.0/x86_64-linux/etc.so: warning: already initialized constant Etc::SC_BC_SCALE_MAX\n",
      "/home/mshira/.rvm/rubies/ruby-2.5.5/lib/ruby/2.5.0/x86_64-linux/etc.so: warning: already initialized constant Etc::SC_BC_STRING_MAX\n",
      "/home/mshira/.rvm/rubies/ruby-2.5.5/lib/ruby/2.5.0/x86_64-linux/etc.so: warning: already initialized constant Etc::SC_CHILD_MAX\n",
      "/home/mshira/.rvm/rubies/ruby-2.5.5/lib/ruby/2.5.0/x86_64-linux/etc.so: warning: already initialized constant Etc::SC_CLK_TCK\n",
      "/home/mshira/.rvm/rubies/ruby-2.5.5/lib/ruby/2.5.0/x86_64-linux/etc.so: warning: already initialized constant Etc::SC_COLL_WEIGHTS_MAX\n",
      "/home/mshira/.rvm/rubies/ruby-2.5.5/lib/ruby/2.5.0/x86_64-linux/etc.so: warning: already initialized constant Etc::SC_DELAYTIMER_MAX\n",
      "/home/mshira/.rvm/rubies/ruby-2.5.5/lib/ruby/2.5.0/x86_64-linux/etc.so: warning: already initialized constant Etc::SC_EXPR_NEST_MAX\n",
      "/home/mshira/.rvm/rubies/ruby-2.5.5/lib/ruby/2.5.0/x86_64-linux/etc.so: warning: already initialized constant Etc::SC_HOST_NAME_MAX\n",
      "/home/mshira/.rvm/rubies/ruby-2.5.5/lib/ruby/2.5.0/x86_64-linux/etc.so: warning: already initialized constant Etc::SC_IOV_MAX\n",
      "/home/mshira/.rvm/rubies/ruby-2.5.5/lib/ruby/2.5.0/x86_64-linux/etc.so: warning: already initialized constant Etc::SC_LINE_MAX\n",
      "/home/mshira/.rvm/rubies/ruby-2.5.5/lib/ruby/2.5.0/x86_64-linux/etc.so: warning: already initialized constant Etc::SC_LOGIN_NAME_MAX\n",
      "/home/mshira/.rvm/rubies/ruby-2.5.5/lib/ruby/2.5.0/x86_64-linux/etc.so: warning: already initialized constant Etc::SC_NGROUPS_MAX\n",
      "/home/mshira/.rvm/rubies/ruby-2.5.5/lib/ruby/2.5.0/x86_64-linux/etc.so: warning: already initialized constant Etc::SC_GETGR_R_SIZE_MAX\n",
      "/home/mshira/.rvm/rubies/ruby-2.5.5/lib/ruby/2.5.0/x86_64-linux/etc.so: warning: already initialized constant Etc::SC_GETPW_R_SIZE_MAX\n",
      "/home/mshira/.rvm/rubies/ruby-2.5.5/lib/ruby/2.5.0/x86_64-linux/etc.so: warning: already initialized constant Etc::SC_MQ_OPEN_MAX\n",
      "/home/mshira/.rvm/rubies/ruby-2.5.5/lib/ruby/2.5.0/x86_64-linux/etc.so: warning: already initialized constant Etc::SC_MQ_PRIO_MAX\n",
      "/home/mshira/.rvm/rubies/ruby-2.5.5/lib/ruby/2.5.0/x86_64-linux/etc.so: warning: already initialized constant Etc::SC_OPEN_MAX\n",
      "/home/mshira/.rvm/rubies/ruby-2.5.5/lib/ruby/2.5.0/x86_64-linux/etc.so: warning: already initialized constant Etc::SC_ADVISORY_INFO\n",
      "/home/mshira/.rvm/rubies/ruby-2.5.5/lib/ruby/2.5.0/x86_64-linux/etc.so: warning: already initialized constant Etc::SC_BARRIERS\n",
      "/home/mshira/.rvm/rubies/ruby-2.5.5/lib/ruby/2.5.0/x86_64-linux/etc.so: warning: already initialized constant Etc::SC_ASYNCHRONOUS_IO\n",
      "/home/mshira/.rvm/rubies/ruby-2.5.5/lib/ruby/2.5.0/x86_64-linux/etc.so: warning: already initialized constant Etc::SC_CLOCK_SELECTION\n",
      "/home/mshira/.rvm/rubies/ruby-2.5.5/lib/ruby/2.5.0/x86_64-linux/etc.so: warning: already initialized constant Etc::SC_CPUTIME\n",
      "/home/mshira/.rvm/rubies/ruby-2.5.5/lib/ruby/2.5.0/x86_64-linux/etc.so: warning: already initialized constant Etc::SC_FSYNC\n",
      "/home/mshira/.rvm/rubies/ruby-2.5.5/lib/ruby/2.5.0/x86_64-linux/etc.so: warning: already initialized constant Etc::SC_IPV6\n",
      "/home/mshira/.rvm/rubies/ruby-2.5.5/lib/ruby/2.5.0/x86_64-linux/etc.so: warning: already initialized constant Etc::SC_JOB_CONTROL\n",
      "/home/mshira/.rvm/rubies/ruby-2.5.5/lib/ruby/2.5.0/x86_64-linux/etc.so: warning: already initialized constant Etc::SC_MAPPED_FILES\n",
      "/home/mshira/.rvm/rubies/ruby-2.5.5/lib/ruby/2.5.0/x86_64-linux/etc.so: warning: already initialized constant Etc::SC_MEMLOCK\n",
      "/home/mshira/.rvm/rubies/ruby-2.5.5/lib/ruby/2.5.0/x86_64-linux/etc.so: warning: already initialized constant Etc::SC_MEMLOCK_RANGE\n",
      "/home/mshira/.rvm/rubies/ruby-2.5.5/lib/ruby/2.5.0/x86_64-linux/etc.so: warning: already initialized constant Etc::SC_MEMORY_PROTECTION\n",
      "/home/mshira/.rvm/rubies/ruby-2.5.5/lib/ruby/2.5.0/x86_64-linux/etc.so: warning: already initialized constant Etc::SC_MESSAGE_PASSING\n",
      "/home/mshira/.rvm/rubies/ruby-2.5.5/lib/ruby/2.5.0/x86_64-linux/etc.so: warning: already initialized constant Etc::SC_MONOTONIC_CLOCK\n",
      "/home/mshira/.rvm/rubies/ruby-2.5.5/lib/ruby/2.5.0/x86_64-linux/etc.so: warning: already initialized constant Etc::SC_PRIORITIZED_IO\n",
      "/home/mshira/.rvm/rubies/ruby-2.5.5/lib/ruby/2.5.0/x86_64-linux/etc.so: warning: already initialized constant Etc::SC_PRIORITY_SCHEDULING\n",
      "/home/mshira/.rvm/rubies/ruby-2.5.5/lib/ruby/2.5.0/x86_64-linux/etc.so: warning: already initialized constant Etc::SC_RAW_SOCKETS\n",
      "/home/mshira/.rvm/rubies/ruby-2.5.5/lib/ruby/2.5.0/x86_64-linux/etc.so: warning: already initialized constant Etc::SC_READER_WRITER_LOCKS\n",
      "/home/mshira/.rvm/rubies/ruby-2.5.5/lib/ruby/2.5.0/x86_64-linux/etc.so: warning: already initialized constant Etc::SC_REALTIME_SIGNALS\n",
      "/home/mshira/.rvm/rubies/ruby-2.5.5/lib/ruby/2.5.0/x86_64-linux/etc.so: warning: already initialized constant Etc::SC_REGEXP\n",
      "/home/mshira/.rvm/rubies/ruby-2.5.5/lib/ruby/2.5.0/x86_64-linux/etc.so: warning: already initialized constant Etc::SC_SAVED_IDS\n",
      "/home/mshira/.rvm/rubies/ruby-2.5.5/lib/ruby/2.5.0/x86_64-linux/etc.so: warning: already initialized constant Etc::SC_SEMAPHORES\n",
      "/home/mshira/.rvm/rubies/ruby-2.5.5/lib/ruby/2.5.0/x86_64-linux/etc.so: warning: already initialized constant Etc::SC_SHARED_MEMORY_OBJECTS\n",
      "/home/mshira/.rvm/rubies/ruby-2.5.5/lib/ruby/2.5.0/x86_64-linux/etc.so: warning: already initialized constant Etc::SC_SHELL\n",
      "/home/mshira/.rvm/rubies/ruby-2.5.5/lib/ruby/2.5.0/x86_64-linux/etc.so: warning: already initialized constant Etc::SC_SPAWN\n",
      "/home/mshira/.rvm/rubies/ruby-2.5.5/lib/ruby/2.5.0/x86_64-linux/etc.so: warning: already initialized constant Etc::SC_SPIN_LOCKS\n",
      "/home/mshira/.rvm/rubies/ruby-2.5.5/lib/ruby/2.5.0/x86_64-linux/etc.so: warning: already initialized constant Etc::SC_SPORADIC_SERVER\n",
      "/home/mshira/.rvm/rubies/ruby-2.5.5/lib/ruby/2.5.0/x86_64-linux/etc.so: warning: already initialized constant Etc::SC_SS_REPL_MAX\n",
      "/home/mshira/.rvm/rubies/ruby-2.5.5/lib/ruby/2.5.0/x86_64-linux/etc.so: warning: already initialized constant Etc::SC_SYNCHRONIZED_IO\n",
      "/home/mshira/.rvm/rubies/ruby-2.5.5/lib/ruby/2.5.0/x86_64-linux/etc.so: warning: already initialized constant Etc::SC_THREAD_ATTR_STACKADDR\n",
      "/home/mshira/.rvm/rubies/ruby-2.5.5/lib/ruby/2.5.0/x86_64-linux/etc.so: warning: already initialized constant Etc::SC_THREAD_ATTR_STACKSIZE\n",
      "/home/mshira/.rvm/rubies/ruby-2.5.5/lib/ruby/2.5.0/x86_64-linux/etc.so: warning: already initialized constant Etc::SC_THREAD_CPUTIME\n",
      "/home/mshira/.rvm/rubies/ruby-2.5.5/lib/ruby/2.5.0/x86_64-linux/etc.so: warning: already initialized constant Etc::SC_THREAD_PRIO_INHERIT\n",
      "/home/mshira/.rvm/rubies/ruby-2.5.5/lib/ruby/2.5.0/x86_64-linux/etc.so: warning: already initialized constant Etc::SC_THREAD_PRIO_PROTECT\n",
      "/home/mshira/.rvm/rubies/ruby-2.5.5/lib/ruby/2.5.0/x86_64-linux/etc.so: warning: already initialized constant Etc::SC_THREAD_PRIORITY_SCHEDULING\n",
      "/home/mshira/.rvm/rubies/ruby-2.5.5/lib/ruby/2.5.0/x86_64-linux/etc.so: warning: already initialized constant Etc::SC_THREAD_PROCESS_SHARED\n",
      "/home/mshira/.rvm/rubies/ruby-2.5.5/lib/ruby/2.5.0/x86_64-linux/etc.so: warning: already initialized constant Etc::SC_THREAD_ROBUST_PRIO_INHERIT\n",
      "/home/mshira/.rvm/rubies/ruby-2.5.5/lib/ruby/2.5.0/x86_64-linux/etc.so: warning: already initialized constant Etc::SC_THREAD_ROBUST_PRIO_PROTECT\n",
      "/home/mshira/.rvm/rubies/ruby-2.5.5/lib/ruby/2.5.0/x86_64-linux/etc.so: warning: already initialized constant Etc::SC_THREAD_SAFE_FUNCTIONS\n",
      "/home/mshira/.rvm/rubies/ruby-2.5.5/lib/ruby/2.5.0/x86_64-linux/etc.so: warning: already initialized constant Etc::SC_THREAD_SPORADIC_SERVER\n",
      "/home/mshira/.rvm/rubies/ruby-2.5.5/lib/ruby/2.5.0/x86_64-linux/etc.so: warning: already initialized constant Etc::SC_THREADS\n",
      "/home/mshira/.rvm/rubies/ruby-2.5.5/lib/ruby/2.5.0/x86_64-linux/etc.so: warning: already initialized constant Etc::SC_TIMEOUTS\n",
      "/home/mshira/.rvm/rubies/ruby-2.5.5/lib/ruby/2.5.0/x86_64-linux/etc.so: warning: already initialized constant Etc::SC_TIMERS\n",
      "/home/mshira/.rvm/rubies/ruby-2.5.5/lib/ruby/2.5.0/x86_64-linux/etc.so: warning: already initialized constant Etc::SC_TRACE\n",
      "/home/mshira/.rvm/rubies/ruby-2.5.5/lib/ruby/2.5.0/x86_64-linux/etc.so: warning: already initialized constant Etc::SC_TRACE_EVENT_FILTER\n",
      "/home/mshira/.rvm/rubies/ruby-2.5.5/lib/ruby/2.5.0/x86_64-linux/etc.so: warning: already initialized constant Etc::SC_TRACE_EVENT_NAME_MAX\n",
      "/home/mshira/.rvm/rubies/ruby-2.5.5/lib/ruby/2.5.0/x86_64-linux/etc.so: warning: already initialized constant Etc::SC_TRACE_INHERIT\n",
      "/home/mshira/.rvm/rubies/ruby-2.5.5/lib/ruby/2.5.0/x86_64-linux/etc.so: warning: already initialized constant Etc::SC_TRACE_LOG\n",
      "/home/mshira/.rvm/rubies/ruby-2.5.5/lib/ruby/2.5.0/x86_64-linux/etc.so: warning: already initialized constant Etc::SC_TRACE_NAME_MAX\n",
      "/home/mshira/.rvm/rubies/ruby-2.5.5/lib/ruby/2.5.0/x86_64-linux/etc.so: warning: already initialized constant Etc::SC_TRACE_SYS_MAX\n",
      "/home/mshira/.rvm/rubies/ruby-2.5.5/lib/ruby/2.5.0/x86_64-linux/etc.so: warning: already initialized constant Etc::SC_TRACE_USER_EVENT_MAX\n",
      "/home/mshira/.rvm/rubies/ruby-2.5.5/lib/ruby/2.5.0/x86_64-linux/etc.so: warning: already initialized constant Etc::SC_TYPED_MEMORY_OBJECTS\n",
      "/home/mshira/.rvm/rubies/ruby-2.5.5/lib/ruby/2.5.0/x86_64-linux/etc.so: warning: already initialized constant Etc::SC_VERSION\n",
      "/home/mshira/.rvm/rubies/ruby-2.5.5/lib/ruby/2.5.0/x86_64-linux/etc.so: warning: already initialized constant Etc::SC_V7_ILP32_OFF32\n",
      "/home/mshira/.rvm/rubies/ruby-2.5.5/lib/ruby/2.5.0/x86_64-linux/etc.so: warning: already initialized constant Etc::SC_V7_ILP32_OFFBIG\n",
      "/home/mshira/.rvm/rubies/ruby-2.5.5/lib/ruby/2.5.0/x86_64-linux/etc.so: warning: already initialized constant Etc::SC_V7_LP64_OFF64\n",
      "/home/mshira/.rvm/rubies/ruby-2.5.5/lib/ruby/2.5.0/x86_64-linux/etc.so: warning: already initialized constant Etc::SC_V7_LPBIG_OFFBIG\n",
      "/home/mshira/.rvm/rubies/ruby-2.5.5/lib/ruby/2.5.0/x86_64-linux/etc.so: warning: already initialized constant Etc::SC_V6_ILP32_OFF32\n",
      "/home/mshira/.rvm/rubies/ruby-2.5.5/lib/ruby/2.5.0/x86_64-linux/etc.so: warning: already initialized constant Etc::SC_V6_ILP32_OFFBIG\n",
      "/home/mshira/.rvm/rubies/ruby-2.5.5/lib/ruby/2.5.0/x86_64-linux/etc.so: warning: already initialized constant Etc::SC_V6_LP64_OFF64\n",
      "/home/mshira/.rvm/rubies/ruby-2.5.5/lib/ruby/2.5.0/x86_64-linux/etc.so: warning: already initialized constant Etc::SC_V6_LPBIG_OFFBIG\n",
      "/home/mshira/.rvm/rubies/ruby-2.5.5/lib/ruby/2.5.0/x86_64-linux/etc.so: warning: already initialized constant Etc::SC_2_C_BIND\n",
      "/home/mshira/.rvm/rubies/ruby-2.5.5/lib/ruby/2.5.0/x86_64-linux/etc.so: warning: already initialized constant Etc::SC_2_C_DEV\n",
      "/home/mshira/.rvm/rubies/ruby-2.5.5/lib/ruby/2.5.0/x86_64-linux/etc.so: warning: already initialized constant Etc::SC_2_CHAR_TERM\n",
      "/home/mshira/.rvm/rubies/ruby-2.5.5/lib/ruby/2.5.0/x86_64-linux/etc.so: warning: already initialized constant Etc::SC_2_FORT_DEV\n",
      "/home/mshira/.rvm/rubies/ruby-2.5.5/lib/ruby/2.5.0/x86_64-linux/etc.so: warning: already initialized constant Etc::SC_2_FORT_RUN\n",
      "/home/mshira/.rvm/rubies/ruby-2.5.5/lib/ruby/2.5.0/x86_64-linux/etc.so: warning: already initialized constant Etc::SC_2_LOCALEDEF\n",
      "/home/mshira/.rvm/rubies/ruby-2.5.5/lib/ruby/2.5.0/x86_64-linux/etc.so: warning: already initialized constant Etc::SC_2_PBS\n",
      "/home/mshira/.rvm/rubies/ruby-2.5.5/lib/ruby/2.5.0/x86_64-linux/etc.so: warning: already initialized constant Etc::SC_2_PBS_ACCOUNTING\n",
      "/home/mshira/.rvm/rubies/ruby-2.5.5/lib/ruby/2.5.0/x86_64-linux/etc.so: warning: already initialized constant Etc::SC_2_PBS_CHECKPOINT\n",
      "/home/mshira/.rvm/rubies/ruby-2.5.5/lib/ruby/2.5.0/x86_64-linux/etc.so: warning: already initialized constant Etc::SC_2_PBS_LOCATE\n",
      "/home/mshira/.rvm/rubies/ruby-2.5.5/lib/ruby/2.5.0/x86_64-linux/etc.so: warning: already initialized constant Etc::SC_2_PBS_MESSAGE\n",
      "/home/mshira/.rvm/rubies/ruby-2.5.5/lib/ruby/2.5.0/x86_64-linux/etc.so: warning: already initialized constant Etc::SC_2_PBS_TRACK\n",
      "/home/mshira/.rvm/rubies/ruby-2.5.5/lib/ruby/2.5.0/x86_64-linux/etc.so: warning: already initialized constant Etc::SC_2_SW_DEV\n",
      "/home/mshira/.rvm/rubies/ruby-2.5.5/lib/ruby/2.5.0/x86_64-linux/etc.so: warning: already initialized constant Etc::SC_2_UPE\n",
      "/home/mshira/.rvm/rubies/ruby-2.5.5/lib/ruby/2.5.0/x86_64-linux/etc.so: warning: already initialized constant Etc::SC_2_VERSION\n",
      "/home/mshira/.rvm/rubies/ruby-2.5.5/lib/ruby/2.5.0/x86_64-linux/etc.so: warning: already initialized constant Etc::SC_PAGE_SIZE\n",
      "/home/mshira/.rvm/rubies/ruby-2.5.5/lib/ruby/2.5.0/x86_64-linux/etc.so: warning: already initialized constant Etc::SC_PAGESIZE\n",
      "/home/mshira/.rvm/rubies/ruby-2.5.5/lib/ruby/2.5.0/x86_64-linux/etc.so: warning: already initialized constant Etc::SC_THREAD_DESTRUCTOR_ITERATIONS\n",
      "/home/mshira/.rvm/rubies/ruby-2.5.5/lib/ruby/2.5.0/x86_64-linux/etc.so: warning: already initialized constant Etc::SC_THREAD_KEYS_MAX\n",
      "/home/mshira/.rvm/rubies/ruby-2.5.5/lib/ruby/2.5.0/x86_64-linux/etc.so: warning: already initialized constant Etc::SC_THREAD_STACK_MIN\n",
      "/home/mshira/.rvm/rubies/ruby-2.5.5/lib/ruby/2.5.0/x86_64-linux/etc.so: warning: already initialized constant Etc::SC_THREAD_THREADS_MAX\n",
      "/home/mshira/.rvm/rubies/ruby-2.5.5/lib/ruby/2.5.0/x86_64-linux/etc.so: warning: already initialized constant Etc::SC_RE_DUP_MAX\n",
      "/home/mshira/.rvm/rubies/ruby-2.5.5/lib/ruby/2.5.0/x86_64-linux/etc.so: warning: already initialized constant Etc::SC_RTSIG_MAX\n",
      "/home/mshira/.rvm/rubies/ruby-2.5.5/lib/ruby/2.5.0/x86_64-linux/etc.so: warning: already initialized constant Etc::SC_SEM_NSEMS_MAX\n",
      "/home/mshira/.rvm/rubies/ruby-2.5.5/lib/ruby/2.5.0/x86_64-linux/etc.so: warning: already initialized constant Etc::SC_SEM_VALUE_MAX\n",
      "/home/mshira/.rvm/rubies/ruby-2.5.5/lib/ruby/2.5.0/x86_64-linux/etc.so: warning: already initialized constant Etc::SC_SIGQUEUE_MAX\n",
      "/home/mshira/.rvm/rubies/ruby-2.5.5/lib/ruby/2.5.0/x86_64-linux/etc.so: warning: already initialized constant Etc::SC_STREAM_MAX\n",
      "/home/mshira/.rvm/rubies/ruby-2.5.5/lib/ruby/2.5.0/x86_64-linux/etc.so: warning: already initialized constant Etc::SC_SYMLOOP_MAX\n",
      "/home/mshira/.rvm/rubies/ruby-2.5.5/lib/ruby/2.5.0/x86_64-linux/etc.so: warning: already initialized constant Etc::SC_TIMER_MAX\n",
      "/home/mshira/.rvm/rubies/ruby-2.5.5/lib/ruby/2.5.0/x86_64-linux/etc.so: warning: already initialized constant Etc::SC_TTY_NAME_MAX\n",
      "/home/mshira/.rvm/rubies/ruby-2.5.5/lib/ruby/2.5.0/x86_64-linux/etc.so: warning: already initialized constant Etc::SC_TZNAME_MAX\n",
      "/home/mshira/.rvm/rubies/ruby-2.5.5/lib/ruby/2.5.0/x86_64-linux/etc.so: warning: already initialized constant Etc::SC_XOPEN_CRYPT\n",
      "/home/mshira/.rvm/rubies/ruby-2.5.5/lib/ruby/2.5.0/x86_64-linux/etc.so: warning: already initialized constant Etc::SC_XOPEN_ENH_I18N\n",
      "/home/mshira/.rvm/rubies/ruby-2.5.5/lib/ruby/2.5.0/x86_64-linux/etc.so: warning: already initialized constant Etc::SC_XOPEN_REALTIME\n",
      "/home/mshira/.rvm/rubies/ruby-2.5.5/lib/ruby/2.5.0/x86_64-linux/etc.so: warning: already initialized constant Etc::SC_XOPEN_REALTIME_THREADS\n",
      "/home/mshira/.rvm/rubies/ruby-2.5.5/lib/ruby/2.5.0/x86_64-linux/etc.so: warning: already initialized constant Etc::SC_XOPEN_SHM\n",
      "/home/mshira/.rvm/rubies/ruby-2.5.5/lib/ruby/2.5.0/x86_64-linux/etc.so: warning: already initialized constant Etc::SC_XOPEN_STREAMS\n",
      "/home/mshira/.rvm/rubies/ruby-2.5.5/lib/ruby/2.5.0/x86_64-linux/etc.so: warning: already initialized constant Etc::SC_XOPEN_UNIX\n",
      "/home/mshira/.rvm/rubies/ruby-2.5.5/lib/ruby/2.5.0/x86_64-linux/etc.so: warning: already initialized constant Etc::SC_XOPEN_VERSION\n",
      "/home/mshira/.rvm/rubies/ruby-2.5.5/lib/ruby/2.5.0/x86_64-linux/etc.so: warning: already initialized constant Etc::SC_PHYS_PAGES\n",
      "/home/mshira/.rvm/rubies/ruby-2.5.5/lib/ruby/2.5.0/x86_64-linux/etc.so: warning: already initialized constant Etc::SC_AVPHYS_PAGES\n",
      "/home/mshira/.rvm/rubies/ruby-2.5.5/lib/ruby/2.5.0/x86_64-linux/etc.so: warning: already initialized constant Etc::SC_NPROCESSORS_CONF\n",
      "/home/mshira/.rvm/rubies/ruby-2.5.5/lib/ruby/2.5.0/x86_64-linux/etc.so: warning: already initialized constant Etc::SC_NPROCESSORS_ONLN\n",
      "/home/mshira/.rvm/rubies/ruby-2.5.5/lib/ruby/2.5.0/x86_64-linux/etc.so: warning: already initialized constant Etc::CS_PATH\n",
      "/home/mshira/.rvm/rubies/ruby-2.5.5/lib/ruby/2.5.0/x86_64-linux/etc.so: warning: already initialized constant Etc::CS_POSIX_V7_ILP32_OFF32_CFLAGS\n",
      "/home/mshira/.rvm/rubies/ruby-2.5.5/lib/ruby/2.5.0/x86_64-linux/etc.so: warning: already initialized constant Etc::CS_POSIX_V7_ILP32_OFF32_LDFLAGS\n",
      "/home/mshira/.rvm/rubies/ruby-2.5.5/lib/ruby/2.5.0/x86_64-linux/etc.so: warning: already initialized constant Etc::CS_POSIX_V7_ILP32_OFF32_LIBS\n",
      "/home/mshira/.rvm/rubies/ruby-2.5.5/lib/ruby/2.5.0/x86_64-linux/etc.so: warning: already initialized constant Etc::CS_POSIX_V7_ILP32_OFFBIG_CFLAGS\n",
      "/home/mshira/.rvm/rubies/ruby-2.5.5/lib/ruby/2.5.0/x86_64-linux/etc.so: warning: already initialized constant Etc::CS_POSIX_V7_ILP32_OFFBIG_LDFLAGS\n",
      "/home/mshira/.rvm/rubies/ruby-2.5.5/lib/ruby/2.5.0/x86_64-linux/etc.so: warning: already initialized constant Etc::CS_POSIX_V7_ILP32_OFFBIG_LIBS\n",
      "/home/mshira/.rvm/rubies/ruby-2.5.5/lib/ruby/2.5.0/x86_64-linux/etc.so: warning: already initialized constant Etc::CS_POSIX_V7_LP64_OFF64_CFLAGS\n",
      "/home/mshira/.rvm/rubies/ruby-2.5.5/lib/ruby/2.5.0/x86_64-linux/etc.so: warning: already initialized constant Etc::CS_POSIX_V7_LP64_OFF64_LDFLAGS\n",
      "/home/mshira/.rvm/rubies/ruby-2.5.5/lib/ruby/2.5.0/x86_64-linux/etc.so: warning: already initialized constant Etc::CS_POSIX_V7_LP64_OFF64_LIBS\n",
      "/home/mshira/.rvm/rubies/ruby-2.5.5/lib/ruby/2.5.0/x86_64-linux/etc.so: warning: already initialized constant Etc::CS_POSIX_V7_LPBIG_OFFBIG_CFLAGS\n",
      "/home/mshira/.rvm/rubies/ruby-2.5.5/lib/ruby/2.5.0/x86_64-linux/etc.so: warning: already initialized constant Etc::CS_POSIX_V7_LPBIG_OFFBIG_LDFLAGS\n",
      "/home/mshira/.rvm/rubies/ruby-2.5.5/lib/ruby/2.5.0/x86_64-linux/etc.so: warning: already initialized constant Etc::CS_POSIX_V7_LPBIG_OFFBIG_LIBS\n",
      "/home/mshira/.rvm/rubies/ruby-2.5.5/lib/ruby/2.5.0/x86_64-linux/etc.so: warning: already initialized constant Etc::CS_POSIX_V7_WIDTH_RESTRICTED_ENVS\n",
      "/home/mshira/.rvm/rubies/ruby-2.5.5/lib/ruby/2.5.0/x86_64-linux/etc.so: warning: already initialized constant Etc::CS_V7_ENV\n",
      "/home/mshira/.rvm/rubies/ruby-2.5.5/lib/ruby/2.5.0/x86_64-linux/etc.so: warning: already initialized constant Etc::CS_POSIX_V6_ILP32_OFF32_CFLAGS\n",
      "/home/mshira/.rvm/rubies/ruby-2.5.5/lib/ruby/2.5.0/x86_64-linux/etc.so: warning: already initialized constant Etc::CS_POSIX_V6_ILP32_OFF32_LDFLAGS\n",
      "/home/mshira/.rvm/rubies/ruby-2.5.5/lib/ruby/2.5.0/x86_64-linux/etc.so: warning: already initialized constant Etc::CS_POSIX_V6_ILP32_OFF32_LIBS\n",
      "/home/mshira/.rvm/rubies/ruby-2.5.5/lib/ruby/2.5.0/x86_64-linux/etc.so: warning: already initialized constant Etc::CS_POSIX_V6_ILP32_OFFBIG_CFLAGS\n",
      "/home/mshira/.rvm/rubies/ruby-2.5.5/lib/ruby/2.5.0/x86_64-linux/etc.so: warning: already initialized constant Etc::CS_POSIX_V6_ILP32_OFFBIG_LDFLAGS\n",
      "/home/mshira/.rvm/rubies/ruby-2.5.5/lib/ruby/2.5.0/x86_64-linux/etc.so: warning: already initialized constant Etc::CS_POSIX_V6_ILP32_OFFBIG_LIBS\n",
      "/home/mshira/.rvm/rubies/ruby-2.5.5/lib/ruby/2.5.0/x86_64-linux/etc.so: warning: already initialized constant Etc::CS_POSIX_V6_LP64_OFF64_CFLAGS\n",
      "/home/mshira/.rvm/rubies/ruby-2.5.5/lib/ruby/2.5.0/x86_64-linux/etc.so: warning: already initialized constant Etc::CS_POSIX_V6_LP64_OFF64_LDFLAGS\n",
      "/home/mshira/.rvm/rubies/ruby-2.5.5/lib/ruby/2.5.0/x86_64-linux/etc.so: warning: already initialized constant Etc::CS_POSIX_V6_LP64_OFF64_LIBS\n",
      "/home/mshira/.rvm/rubies/ruby-2.5.5/lib/ruby/2.5.0/x86_64-linux/etc.so: warning: already initialized constant Etc::CS_POSIX_V6_LPBIG_OFFBIG_CFLAGS\n",
      "/home/mshira/.rvm/rubies/ruby-2.5.5/lib/ruby/2.5.0/x86_64-linux/etc.so: warning: already initialized constant Etc::CS_POSIX_V6_LPBIG_OFFBIG_LDFLAGS\n",
      "/home/mshira/.rvm/rubies/ruby-2.5.5/lib/ruby/2.5.0/x86_64-linux/etc.so: warning: already initialized constant Etc::CS_POSIX_V6_LPBIG_OFFBIG_LIBS\n",
      "/home/mshira/.rvm/rubies/ruby-2.5.5/lib/ruby/2.5.0/x86_64-linux/etc.so: warning: already initialized constant Etc::CS_POSIX_V6_WIDTH_RESTRICTED_ENVS\n",
      "/home/mshira/.rvm/rubies/ruby-2.5.5/lib/ruby/2.5.0/x86_64-linux/etc.so: warning: already initialized constant Etc::CS_V6_ENV\n",
      "/home/mshira/.rvm/rubies/ruby-2.5.5/lib/ruby/2.5.0/x86_64-linux/etc.so: warning: already initialized constant Etc::CS_GNU_LIBC_VERSION\n",
      "/home/mshira/.rvm/rubies/ruby-2.5.5/lib/ruby/2.5.0/x86_64-linux/etc.so: warning: already initialized constant Etc::CS_GNU_LIBPTHREAD_VERSION\n",
      "/home/mshira/.rvm/rubies/ruby-2.5.5/lib/ruby/2.5.0/x86_64-linux/etc.so: warning: already initialized constant Etc::PC_FILESIZEBITS\n",
      "/home/mshira/.rvm/rubies/ruby-2.5.5/lib/ruby/2.5.0/x86_64-linux/etc.so: warning: already initialized constant Etc::PC_LINK_MAX\n",
      "/home/mshira/.rvm/rubies/ruby-2.5.5/lib/ruby/2.5.0/x86_64-linux/etc.so: warning: already initialized constant Etc::PC_MAX_CANON\n",
      "/home/mshira/.rvm/rubies/ruby-2.5.5/lib/ruby/2.5.0/x86_64-linux/etc.so: warning: already initialized constant Etc::PC_MAX_INPUT\n",
      "/home/mshira/.rvm/rubies/ruby-2.5.5/lib/ruby/2.5.0/x86_64-linux/etc.so: warning: already initialized constant Etc::PC_NAME_MAX\n",
      "/home/mshira/.rvm/rubies/ruby-2.5.5/lib/ruby/2.5.0/x86_64-linux/etc.so: warning: already initialized constant Etc::PC_PATH_MAX\n",
      "/home/mshira/.rvm/rubies/ruby-2.5.5/lib/ruby/2.5.0/x86_64-linux/etc.so: warning: already initialized constant Etc::PC_PIPE_BUF\n",
      "/home/mshira/.rvm/rubies/ruby-2.5.5/lib/ruby/2.5.0/x86_64-linux/etc.so: warning: already initialized constant Etc::PC_2_SYMLINKS\n",
      "/home/mshira/.rvm/rubies/ruby-2.5.5/lib/ruby/2.5.0/x86_64-linux/etc.so: warning: already initialized constant Etc::PC_ALLOC_SIZE_MIN\n",
      "/home/mshira/.rvm/rubies/ruby-2.5.5/lib/ruby/2.5.0/x86_64-linux/etc.so: warning: already initialized constant Etc::PC_REC_INCR_XFER_SIZE\n",
      "/home/mshira/.rvm/rubies/ruby-2.5.5/lib/ruby/2.5.0/x86_64-linux/etc.so: warning: already initialized constant Etc::PC_REC_MAX_XFER_SIZE\n",
      "/home/mshira/.rvm/rubies/ruby-2.5.5/lib/ruby/2.5.0/x86_64-linux/etc.so: warning: already initialized constant Etc::PC_REC_MIN_XFER_SIZE\n",
      "/home/mshira/.rvm/rubies/ruby-2.5.5/lib/ruby/2.5.0/x86_64-linux/etc.so: warning: already initialized constant Etc::PC_REC_XFER_ALIGN\n",
      "/home/mshira/.rvm/rubies/ruby-2.5.5/lib/ruby/2.5.0/x86_64-linux/etc.so: warning: already initialized constant Etc::PC_SYMLINK_MAX\n",
      "/home/mshira/.rvm/rubies/ruby-2.5.5/lib/ruby/2.5.0/x86_64-linux/etc.so: warning: already initialized constant Etc::PC_CHOWN_RESTRICTED\n",
      "/home/mshira/.rvm/rubies/ruby-2.5.5/lib/ruby/2.5.0/x86_64-linux/etc.so: warning: already initialized constant Etc::PC_NO_TRUNC\n",
      "/home/mshira/.rvm/rubies/ruby-2.5.5/lib/ruby/2.5.0/x86_64-linux/etc.so: warning: already initialized constant Etc::PC_VDISABLE\n",
      "/home/mshira/.rvm/rubies/ruby-2.5.5/lib/ruby/2.5.0/x86_64-linux/etc.so: warning: already initialized constant Etc::PC_ASYNC_IO\n",
      "/home/mshira/.rvm/rubies/ruby-2.5.5/lib/ruby/2.5.0/x86_64-linux/etc.so: warning: already initialized constant Etc::PC_PRIO_IO\n",
      "/home/mshira/.rvm/rubies/ruby-2.5.5/lib/ruby/2.5.0/x86_64-linux/etc.so: warning: already initialized constant Etc::PC_SYNC_IO\n",
      "/home/mshira/.rvm/rubies/ruby-2.5.5/lib/ruby/2.5.0/x86_64-linux/etc.so: warning: already initialized constant Struct::Passwd\n",
      "/home/mshira/.rvm/rubies/ruby-2.5.5/lib/ruby/2.5.0/x86_64-linux/etc.so: warning: already initialized constant Struct::Group\n"
     ]
    },
    {
     "name": "stdout",
     "output_type": "stream",
     "text": [
      "Mocha deprecation warning at /home/mshira/git/hammer-cli/test/test_helper.rb:14:in `require': Require 'mocha/test_unit', 'mocha/minitest' or 'mocha/api' instead of 'mocha/setup'.\n",
      "Run options: --seed 28917\n",
      "\n",
      "# Running tests:\n",
      "\n",
      ".................................................................................................................................................................................................................................................................................................................................................................................................................................................................................................................................................................................................................................................................................................................................................................................................................................................................................................\n",
      "\n",
      "Finished tests in 0.358657s, 2411.7761 tests/s, 3624.6347 assertions/s.\n",
      "\n",
      "865 tests, 1300 assertions, 0 failures, 0 errors, 0 skips\n",
      "Coverage report generated for MiniTest to /home/mshira/git/coverage. 3210 / 3608 LOC (88.97%) covered.\n"
     ]
    }
   ],
   "source": [
    "! bundle exec rake test"
   ]
  },
  {
   "cell_type": "markdown",
   "metadata": {},
   "source": [
    "### Update release related stuff"
   ]
  },
  {
   "cell_type": "code",
   "execution_count": null,
   "metadata": {},
   "outputs": [],
   "source": [
    "! sed -i 's/Gem::Version.new .*/Gem::Version.new \"{NEW_VERSION}\"/' lib/hammer_cli/version.rb"
   ]
  },
  {
   "cell_type": "code",
   "execution_count": null,
   "metadata": {},
   "outputs": [],
   "source": [
    "# Parse git changelog\n",
    "from IPython.display import Markdown as md\n",
    "from subprocess import check_output\n",
    "from shlex import split\n",
    "import re\n",
    "\n",
    "def format_log_entry(entry):\n",
    "    issues = re.findall(r'[^(]#([0-9]+)', entry)\n",
    "    entry = re.sub(r'([fF]ixes|[rR]efs)[^-]*-\\s*(.*)', r'\\2', entry)\n",
    "    entry = '* ' + entry.capitalize()\n",
    "    entry = re.sub(r'\\(#([0-9]+)\\)', r'([PR #\\1](https://github.com/theforeman/hammer-cli/pull/\\1))', entry)\n",
    "    for i in issues:\n",
    "        referenced_issues.append(i)\n",
    "        entry = entry + ', [#%s](http://projects.theforeman.org/issues/%s)' % (i, i)\n",
    "    return entry\n",
    "\n",
    "def skip(entry):\n",
    "    if re.match(r'Merge pull', entry) or \\\n",
    "      re.match(r'^i18n', entry) or \\\n",
    "      re.match(r'^Bump to version', entry):\n",
    "        return True\n",
    "    else:\n",
    "        return False\n",
    "referenced_issues = []    \n",
    "git_log_cmd = 'git log --pretty=format:\"%%s\" %s..HEAD' % LAST_VERSION\n",
    "log = check_output(split(git_log_cmd)).decode('utf8').split('\\n')\n",
    "change_log = [format_log_entry(e) for e in log if not skip(e)]\n",
    "md('\\n'.join(change_log))\n"
   ]
  },
  {
   "cell_type": "code",
   "execution_count": null,
   "metadata": {},
   "outputs": [],
   "source": [
    "# Write release notes\n",
    "from datetime import datetime\n",
    "import fileinput\n",
    "import sys\n",
    "\n",
    "fh = fileinput.input('doc/release_notes.md', inplace=True)  \n",
    "for line in fh:  \n",
    "    print(line.rstrip())\n",
    "    if re.match(r'========', line):\n",
    "        print('### %s (%s)' % (NEW_VERSION, datetime.today().strftime('%Y-%m-%d')))\n",
    "        for entry in change_log:\n",
    "            print(entry)\n",
    "        print('')\n",
    "fh.close()  "
   ]
  },
  {
   "cell_type": "markdown",
   "metadata": {},
   "source": [
    "#### Manual step: Update deps in the gemspec if neccessary"
   ]
  },
  {
   "cell_type": "markdown",
   "metadata": {},
   "source": [
    "### Check what is going to be commited"
   ]
  },
  {
   "cell_type": "code",
   "execution_count": null,
   "metadata": {
    "scrolled": false
   },
   "outputs": [],
   "source": [
    "! git add -u\n",
    "! git status"
   ]
  },
  {
   "cell_type": "code",
   "execution_count": null,
   "metadata": {
    "scrolled": true
   },
   "outputs": [],
   "source": [
    "! git diff --cached"
   ]
  },
  {
   "cell_type": "markdown",
   "metadata": {},
   "source": [
    "### Commit changes"
   ]
  },
  {
   "cell_type": "code",
   "execution_count": null,
   "metadata": {
    "scrolled": true
   },
   "outputs": [],
   "source": [
    "! git commit -m \"Bump to {NEW_VERSION}\""
   ]
  },
  {
   "cell_type": "markdown",
   "metadata": {},
   "source": [
    "### Update translations"
   ]
  },
  {
   "cell_type": "code",
   "execution_count": null,
   "metadata": {},
   "outputs": [],
   "source": [
    "if MAJOR_RELEASE:\n",
    "    ! make -C locale/ tx-update"
   ]
  },
  {
   "cell_type": "markdown",
   "metadata": {},
   "source": [
    "### Tag new version"
   ]
  },
  {
   "cell_type": "code",
   "execution_count": null,
   "metadata": {},
   "outputs": [],
   "source": [
    "! git tag {NEW_VERSION}"
   ]
  },
  {
   "cell_type": "markdown",
   "metadata": {},
   "source": [
    "### Prepare stable branch for major release"
   ]
  },
  {
   "cell_type": "code",
   "execution_count": null,
   "metadata": {},
   "outputs": [],
   "source": [
    "if MAJOR_RELEASE:\n",
    "    ! git checkout -b {STABLE_BRANCH}\n",
    "    ! git push {GIT_REMOTE_UPSTREAM} {STABLE_BRANCH}\n",
    "    ! git checkout {WORK_BRANCH}"
   ]
  },
  {
   "cell_type": "markdown",
   "metadata": {},
   "source": [
    "### Build the gem"
   ]
  },
  {
   "cell_type": "code",
   "execution_count": null,
   "metadata": {},
   "outputs": [],
   "source": [
    "! rake build"
   ]
  },
  {
   "cell_type": "code",
   "execution_count": null,
   "metadata": {},
   "outputs": [],
   "source": [
    "! gem push pkg/hammer_cli-{NEW_VERSION}.gem"
   ]
  },
  {
   "cell_type": "markdown",
   "metadata": {},
   "source": [
    "### Bump the develop version for major release"
   ]
  },
  {
   "cell_type": "code",
   "execution_count": null,
   "metadata": {},
   "outputs": [],
   "source": [
    "if MAJOR_RELEASE:\n",
    "    ! sed -i 's/Gem::Version.new .*/Gem::Version.new \"{DEVELOP_VERSION}\"/' lib/hammer_cli/version.rb"
   ]
  },
  {
   "cell_type": "code",
   "execution_count": null,
   "metadata": {
    "scrolled": true
   },
   "outputs": [],
   "source": [
    "if MAJOR_RELEASE:\n",
    "    ! git add -u\n",
    "    ! git status"
   ]
  },
  {
   "cell_type": "code",
   "execution_count": null,
   "metadata": {
    "scrolled": true
   },
   "outputs": [],
   "source": [
    "if MAJOR_RELEASE:\n",
    "    ! git diff --cached"
   ]
  },
  {
   "cell_type": "code",
   "execution_count": null,
   "metadata": {
    "scrolled": true
   },
   "outputs": [],
   "source": [
    "if MAJOR_RELEASE:\n",
    "    ! git commit -m \"Bump to {DEVELOP_VERSION}\""
   ]
  },
  {
   "cell_type": "markdown",
   "metadata": {},
   "source": [
    "### PUSH the changes upstream If everything is correct"
   ]
  },
  {
   "cell_type": "code",
   "execution_count": null,
   "metadata": {},
   "outputs": [],
   "source": [
    "! git push {GIT_REMOTE_UPSTREAM} {WORK_BRANCH}"
   ]
  },
  {
   "cell_type": "code",
   "execution_count": null,
   "metadata": {},
   "outputs": [],
   "source": [
    "! git push --tags {GIT_REMOTE_UPSTREAM} {WORK_BRANCH}"
   ]
  },
  {
   "cell_type": "markdown",
   "metadata": {},
   "source": [
    "#### Now the new release is in upstream repo"
   ]
  },
  {
   "cell_type": "markdown",
   "metadata": {},
   "source": [
    "### Some manual steps follow to improve the UX\n",
    "\n",
    "#### New relase on GitHub\n",
    "\n",
    "Copy the following changelog lines to the description in form on link below\n",
    "The release title is the new version."
   ]
  },
  {
   "cell_type": "code",
   "execution_count": null,
   "metadata": {},
   "outputs": [],
   "source": [
    "print('\\n')\n",
    "print('\\n'.join(change_log))\n",
    "print('\\n\\nhttps://github.com/theforeman/hammer-cli/releases/new?tag=%s' % NEW_VERSION)"
   ]
  },
  {
   "cell_type": "code",
   "execution_count": null,
   "metadata": {},
   "outputs": [],
   "source": [
    "from IPython.display import Markdown as md\n",
    "\n",
    "md('### Create new hammer-cli release in Redmine \\n' + \\\n",
    "    '<a href=\"https://projects.theforeman.org/projects/hammer-cli/versions/new\" target=\"_blank\">https://projects.theforeman.org/projects/hammer-cli/versions/new</a>\\n\\n' + \\\n",
    "    'Set name to hammer-cli-%s' % (NEXT_FUTURE_VERSION if MAJOR_RELEASE else NEW_VERSION))"
   ]
  },
  {
   "cell_type": "code",
   "execution_count": null,
   "metadata": {},
   "outputs": [],
   "source": [
    "if not MAJOR_RELEASE:\n",
    "    print('Set fixed in versions to %s in following issues:' % NEW_VERSION)\n",
    "    for i in referenced_issues:\n",
    "        print('- https://projects.theforeman.org/issues/%s' % i)"
   ]
  },
  {
   "cell_type": "markdown",
   "metadata": {},
   "source": [
    "## Congratulations\n",
    "\n",
    "Release is public now."
   ]
  }
 ],
 "metadata": {
  "kernelspec": {
   "display_name": "Python 3",
   "language": "python",
   "name": "python3"
  },
  "language_info": {
   "codemirror_mode": {
    "name": "ipython",
    "version": 3
   },
   "file_extension": ".py",
   "mimetype": "text/x-python",
   "name": "python",
   "nbconvert_exporter": "python",
   "pygments_lexer": "ipython3",
   "version": "3.7.9"
  }
 },
 "nbformat": 4,
 "nbformat_minor": 2
}
